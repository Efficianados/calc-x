{
 "cells": [
  {
   "cell_type": "code",
   "execution_count": 24,
   "metadata": {},
   "outputs": [],
   "source": [
    "import numpy as np\n",
    "import pandas as pd\n",
    "import datasets\n",
    "\n",
    "import gadgets"
   ]
  },
  {
   "cell_type": "code",
   "execution_count": 25,
   "metadata": {},
   "outputs": [],
   "source": [
    "orig_aqua = datasets.load_dataset(\"aqua_rat\")\n",
    "orig_aqua_tokenized = datasets.load_dataset(\"aqua_rat\", \"tokenized\")"
   ]
  },
  {
   "cell_type": "code",
   "execution_count": 26,
   "metadata": {},
   "outputs": [
    {
     "data": {
      "text/plain": [
       "{'question': \"Two friends plan to walk along a 43-km trail, starting at opposite ends of the trail at the same time. If Friend P's rate is 15% faster than Friend Q's, how many kilometers will Friend P have walked when they pass each other?\",\n",
       " 'options': ['A)21', 'B)21.5', 'C)22', 'D)22.5', 'E)23'],\n",
       " 'rationale': 'If Q complete x kilometers, then P completes 1.15x kilometers.\\nx + 1.15x = 43\\n2.15x=43\\nx = 43/2.15 = 20\\nThen P will have have walked 1.15*20=23 km.\\nThe answer is E.',\n",
       " 'correct': 'E'}"
      ]
     },
     "execution_count": 26,
     "metadata": {},
     "output_type": "execute_result"
    }
   ],
   "source": [
    "orig_aqua[\"train\"][0]"
   ]
  },
  {
   "cell_type": "code",
   "execution_count": 27,
   "metadata": {},
   "outputs": [],
   "source": [
    "import random\n",
    "import string\n",
    "\n",
    "id_chars = list(string.ascii_letters + string.digits)\n",
    "\n",
    "aqua = {}\n",
    "\n",
    "def parse_options(options: list[str]) -> dict[str, str]:\n",
    "    assert len(options) == 5\n",
    "    options_dict = {\"A\": None, \"B\": None, \"C\": None, \"D\": None, \"E\": None}\n",
    "    for option, letter in zip(options, options_dict.keys()):\n",
    "        prefix = letter + \")\"\n",
    "        assert option.startswith(prefix)\n",
    "        options_dict[letter] = option.removeprefix(prefix).strip()\n",
    "    return options_dict\n",
    "\n",
    "for split in orig_aqua.keys():\n",
    "    random.seed(f\"aqua_rat/{split}\")\n",
    "    aqua[split] = orig_aqua[split].to_pandas()\n",
    "    aqua[split][\"id\"] = \"aqua_rat__\" + pd.Series([\"\".join(random.choices(id_chars, k=16)) for _ in range(len(aqua[split]))])\n",
    "    aqua[split][\"options\"] = aqua[split][\"options\"].apply(parse_options)\n",
    "    aqua[split][\"correct\"] = aqua[split][\"correct\"].str.upper().str.strip()\n",
    "    aqua[split][\"tokenized_question\"] = orig_aqua_tokenized[split][\"question\"]\n",
    "    assert set(aqua[split][\"correct\"].unique()) == {\"A\", \"B\", \"C\", \"D\", \"E\"}\n"
   ]
  },
  {
   "cell_type": "code",
   "execution_count": 28,
   "metadata": {},
   "outputs": [
    {
     "name": "stdout",
     "output_type": "stream",
     "text": [
      "INFO: Pandarallel will run on 40 workers.\n",
      "INFO: Pandarallel will use Memory file system to transfer data between the main process and workers.\n"
     ]
    }
   ],
   "source": [
    "import pandarallel\n",
    "\n",
    "pandarallel.pandarallel.initialize(progress_bar=True)"
   ]
  },
  {
   "cell_type": "code",
   "execution_count": 29,
   "metadata": {},
   "outputs": [
    {
     "data": {
      "application/vnd.jupyter.widget-view+json": {
       "model_id": "f25c508ca8a749e5a211ba62340f421e",
       "version_major": 2,
       "version_minor": 0
      },
      "text/plain": [
       "VBox(children=(HBox(children=(IntProgress(value=0, description='0.00%', max=2437), Label(value='0 / 2437'))), …"
      ]
     },
     "metadata": {},
     "output_type": "display_data"
    },
    {
     "name": "stderr",
     "output_type": "stream",
     "text": [
      "/home/xkadlci2/gadgets/gadgets/markup.py:14: MarkupResemblesLocatorWarning: The input looks more like a filename than markup. You may want to open this file and pass the filehandle into Beautiful Soup.\n",
      "  return bs4.BeautifulSoup(step, features=\"html.parser\")\n",
      "/home/xkadlci2/gadgets/gadgets/markup.py:14: MarkupResemblesLocatorWarning: The input looks more like a filename than markup. You may want to open this file and pass the filehandle into Beautiful Soup.\n",
      "  return bs4.BeautifulSoup(step, features=\"html.parser\")\n",
      "/home/xkadlci2/gadgets/gadgets/markup.py:14: MarkupResemblesLocatorWarning: The input looks more like a filename than markup. You may want to open this file and pass the filehandle into Beautiful Soup.\n",
      "  return bs4.BeautifulSoup(step, features=\"html.parser\")\n",
      "/home/xkadlci2/gadgets/gadgets/markup.py:14: MarkupResemblesLocatorWarning: The input looks more like a filename than markup. You may want to open this file and pass the filehandle into Beautiful Soup.\n",
      "  return bs4.BeautifulSoup(step, features=\"html.parser\")\n",
      "/home/xkadlci2/gadgets/gadgets/markup.py:14: MarkupResemblesLocatorWarning: The input looks more like a filename than markup. You may want to open this file and pass the filehandle into Beautiful Soup.\n",
      "  return bs4.BeautifulSoup(step, features=\"html.parser\")\n",
      "/home/xkadlci2/gadgets/gadgets/markup.py:14: MarkupResemblesLocatorWarning: The input looks more like a filename than markup. You may want to open this file and pass the filehandle into Beautiful Soup.\n",
      "  return bs4.BeautifulSoup(step, features=\"html.parser\")\n",
      "/home/xkadlci2/gadgets/gadgets/markup.py:14: MarkupResemblesLocatorWarning: The input looks more like a filename than markup. You may want to open this file and pass the filehandle into Beautiful Soup.\n",
      "  return bs4.BeautifulSoup(step, features=\"html.parser\")\n",
      "/home/xkadlci2/gadgets/gadgets/markup.py:14: MarkupResemblesLocatorWarning: The input looks more like a filename than markup. You may want to open this file and pass the filehandle into Beautiful Soup.\n",
      "  return bs4.BeautifulSoup(step, features=\"html.parser\")\n",
      "/home/xkadlci2/gadgets/gadgets/markup.py:14: MarkupResemblesLocatorWarning: The input looks more like a filename than markup. You may want to open this file and pass the filehandle into Beautiful Soup.\n",
      "  return bs4.BeautifulSoup(step, features=\"html.parser\")\n",
      "/home/xkadlci2/gadgets/gadgets/markup.py:14: MarkupResemblesLocatorWarning: The input looks more like a filename than markup. You may want to open this file and pass the filehandle into Beautiful Soup.\n",
      "  return bs4.BeautifulSoup(step, features=\"html.parser\")\n",
      "/home/xkadlci2/gadgets/gadgets/markup.py:14: MarkupResemblesLocatorWarning: The input looks more like a filename than markup. You may want to open this file and pass the filehandle into Beautiful Soup.\n",
      "  return bs4.BeautifulSoup(step, features=\"html.parser\")\n",
      "/home/xkadlci2/gadgets/gadgets/markup.py:14: MarkupResemblesLocatorWarning: The input looks more like a filename than markup. You may want to open this file and pass the filehandle into Beautiful Soup.\n",
      "  return bs4.BeautifulSoup(step, features=\"html.parser\")\n",
      "/home/xkadlci2/gadgets/gadgets/markup.py:14: MarkupResemblesLocatorWarning: The input looks more like a filename than markup. You may want to open this file and pass the filehandle into Beautiful Soup.\n",
      "  return bs4.BeautifulSoup(step, features=\"html.parser\")\n",
      "/home/xkadlci2/gadgets/gadgets/markup.py:14: MarkupResemblesLocatorWarning: The input looks more like a filename than markup. You may want to open this file and pass the filehandle into Beautiful Soup.\n",
      "  return bs4.BeautifulSoup(step, features=\"html.parser\")\n",
      "/home/xkadlci2/gadgets/gadgets/markup.py:14: MarkupResemblesLocatorWarning: The input looks more like a filename than markup. You may want to open this file and pass the filehandle into Beautiful Soup.\n",
      "  return bs4.BeautifulSoup(step, features=\"html.parser\")\n",
      "/home/xkadlci2/gadgets/gadgets/markup.py:14: MarkupResemblesLocatorWarning: The input looks more like a filename than markup. You may want to open this file and pass the filehandle into Beautiful Soup.\n",
      "  return bs4.BeautifulSoup(step, features=\"html.parser\")\n",
      "/home/xkadlci2/gadgets/gadgets/markup.py:14: MarkupResemblesLocatorWarning: The input looks more like a filename than markup. You may want to open this file and pass the filehandle into Beautiful Soup.\n",
      "  return bs4.BeautifulSoup(step, features=\"html.parser\")\n",
      "/home/xkadlci2/gadgets/gadgets/markup.py:14: MarkupResemblesLocatorWarning: The input looks more like a filename than markup. You may want to open this file and pass the filehandle into Beautiful Soup.\n",
      "  return bs4.BeautifulSoup(step, features=\"html.parser\")\n",
      "/home/xkadlci2/gadgets/gadgets/markup.py:14: MarkupResemblesLocatorWarning: The input looks more like a filename than markup. You may want to open this file and pass the filehandle into Beautiful Soup.\n",
      "  return bs4.BeautifulSoup(step, features=\"html.parser\")\n",
      "/home/xkadlci2/gadgets/gadgets/markup.py:14: MarkupResemblesLocatorWarning: The input looks more like a filename than markup. You may want to open this file and pass the filehandle into Beautiful Soup.\n",
      "  return bs4.BeautifulSoup(step, features=\"html.parser\")\n",
      "/home/xkadlci2/gadgets/gadgets/markup.py:14: MarkupResemblesLocatorWarning: The input looks more like a filename than markup. You may want to open this file and pass the filehandle into Beautiful Soup.\n",
      "  return bs4.BeautifulSoup(step, features=\"html.parser\")\n",
      "/home/xkadlci2/gadgets/gadgets/markup.py:14: MarkupResemblesLocatorWarning: The input looks more like a filename than markup. You may want to open this file and pass the filehandle into Beautiful Soup.\n",
      "  return bs4.BeautifulSoup(step, features=\"html.parser\")\n",
      "/home/xkadlci2/gadgets/gadgets/markup.py:14: MarkupResemblesLocatorWarning: The input looks more like a filename than markup. You may want to open this file and pass the filehandle into Beautiful Soup.\n",
      "  return bs4.BeautifulSoup(step, features=\"html.parser\")\n",
      "/home/xkadlci2/gadgets/gadgets/markup.py:14: MarkupResemblesLocatorWarning: The input looks more like a filename than markup. You may want to open this file and pass the filehandle into Beautiful Soup.\n",
      "  return bs4.BeautifulSoup(step, features=\"html.parser\")\n",
      "/home/xkadlci2/gadgets/gadgets/markup.py:14: MarkupResemblesLocatorWarning: The input looks more like a filename than markup. You may want to open this file and pass the filehandle into Beautiful Soup.\n",
      "  return bs4.BeautifulSoup(step, features=\"html.parser\")\n",
      "/home/xkadlci2/gadgets/gadgets/markup.py:14: MarkupResemblesLocatorWarning: The input looks more like a filename than markup. You may want to open this file and pass the filehandle into Beautiful Soup.\n",
      "  return bs4.BeautifulSoup(step, features=\"html.parser\")\n",
      "/home/xkadlci2/gadgets/gadgets/markup.py:14: MarkupResemblesLocatorWarning: The input looks more like a filename than markup. You may want to open this file and pass the filehandle into Beautiful Soup.\n",
      "  return bs4.BeautifulSoup(step, features=\"html.parser\")\n",
      "/home/xkadlci2/gadgets/gadgets/markup.py:14: MarkupResemblesLocatorWarning: The input looks more like a filename than markup. You may want to open this file and pass the filehandle into Beautiful Soup.\n",
      "  return bs4.BeautifulSoup(step, features=\"html.parser\")\n",
      "/home/xkadlci2/gadgets/gadgets/markup.py:14: MarkupResemblesLocatorWarning: The input looks more like a filename than markup. You may want to open this file and pass the filehandle into Beautiful Soup.\n",
      "  return bs4.BeautifulSoup(step, features=\"html.parser\")\n",
      "/home/xkadlci2/gadgets/gadgets/markup.py:14: MarkupResemblesLocatorWarning: The input looks more like a filename than markup. You may want to open this file and pass the filehandle into Beautiful Soup.\n",
      "  return bs4.BeautifulSoup(step, features=\"html.parser\")\n",
      "/home/xkadlci2/gadgets/gadgets/markup.py:14: MarkupResemblesLocatorWarning: The input looks more like a filename than markup. You may want to open this file and pass the filehandle into Beautiful Soup.\n",
      "  return bs4.BeautifulSoup(step, features=\"html.parser\")\n",
      "/home/xkadlci2/gadgets/gadgets/markup.py:14: MarkupResemblesLocatorWarning: The input looks more like a filename than markup. You may want to open this file and pass the filehandle into Beautiful Soup.\n",
      "  return bs4.BeautifulSoup(step, features=\"html.parser\")\n",
      "/home/xkadlci2/gadgets/gadgets/markup.py:14: MarkupResemblesLocatorWarning: The input looks more like a filename than markup. You may want to open this file and pass the filehandle into Beautiful Soup.\n",
      "  return bs4.BeautifulSoup(step, features=\"html.parser\")\n",
      "/home/xkadlci2/gadgets/gadgets/markup.py:14: MarkupResemblesLocatorWarning: The input looks more like a filename than markup. You may want to open this file and pass the filehandle into Beautiful Soup.\n",
      "  return bs4.BeautifulSoup(step, features=\"html.parser\")\n",
      "/home/xkadlci2/gadgets/gadgets/markup.py:14: MarkupResemblesLocatorWarning: The input looks more like a filename than markup. You may want to open this file and pass the filehandle into Beautiful Soup.\n",
      "  return bs4.BeautifulSoup(step, features=\"html.parser\")\n",
      "/home/xkadlci2/gadgets/gadgets/markup.py:14: MarkupResemblesLocatorWarning: The input looks more like a filename than markup. You may want to open this file and pass the filehandle into Beautiful Soup.\n",
      "  return bs4.BeautifulSoup(step, features=\"html.parser\")\n",
      "/home/xkadlci2/gadgets/gadgets/markup.py:14: MarkupResemblesLocatorWarning: The input looks more like a filename than markup. You may want to open this file and pass the filehandle into Beautiful Soup.\n",
      "  return bs4.BeautifulSoup(step, features=\"html.parser\")\n",
      "/home/xkadlci2/gadgets/gadgets/markup.py:14: MarkupResemblesLocatorWarning: The input looks more like a filename than markup. You may want to open this file and pass the filehandle into Beautiful Soup.\n",
      "  return bs4.BeautifulSoup(step, features=\"html.parser\")\n",
      "/home/xkadlci2/gadgets/gadgets/markup.py:14: MarkupResemblesLocatorWarning: The input looks more like a filename than markup. You may want to open this file and pass the filehandle into Beautiful Soup.\n",
      "  return bs4.BeautifulSoup(step, features=\"html.parser\")\n",
      "/home/xkadlci2/gadgets/gadgets/markup.py:14: MarkupResemblesLocatorWarning: The input looks more like a filename than markup. You may want to open this file and pass the filehandle into Beautiful Soup.\n",
      "  return bs4.BeautifulSoup(step, features=\"html.parser\")\n",
      "<string>:1: SyntaxWarning: 'tuple' object is not callable; perhaps you missed a comma?\n",
      "<string>:1: SyntaxWarning: 'tuple' object is not callable; perhaps you missed a comma?\n",
      "<string>:1: SyntaxWarning: 'tuple' object is not callable; perhaps you missed a comma?\n",
      "<string>:1: SyntaxWarning: 'tuple' object is not callable; perhaps you missed a comma?\n",
      "<string>:1: SyntaxWarning: 'tuple' object is not callable; perhaps you missed a comma?\n",
      "<string>:1: SyntaxWarning: 'tuple' object is not callable; perhaps you missed a comma?\n",
      "<string>:1: SyntaxWarning: 'tuple' object is not callable; perhaps you missed a comma?\n",
      "<string>:1: SyntaxWarning: 'tuple' object is not callable; perhaps you missed a comma?\n",
      "<string>:1: SyntaxWarning: 'tuple' object is not callable; perhaps you missed a comma?\n",
      "<string>:1: SyntaxWarning: 'tuple' object is not callable; perhaps you missed a comma?\n",
      "<string>:1: SyntaxWarning: 'tuple' object is not callable; perhaps you missed a comma?\n",
      "<string>:1: SyntaxWarning: 'tuple' object is not callable; perhaps you missed a comma?\n",
      "<string>:1: SyntaxWarning: 'tuple' object is not callable; perhaps you missed a comma?\n",
      "<string>:1: SyntaxWarning: 'tuple' object is not callable; perhaps you missed a comma?\n",
      "<string>:1: SyntaxWarning: 'tuple' object is not callable; perhaps you missed a comma?\n",
      "<string>:1: SyntaxWarning: 'tuple' object is not callable; perhaps you missed a comma?\n",
      "<string>:1: SyntaxWarning: 'tuple' object is not callable; perhaps you missed a comma?\n",
      "<string>:1: SyntaxWarning: 'tuple' object is not callable; perhaps you missed a comma?\n",
      "<string>:1: SyntaxWarning: 'tuple' object is not callable; perhaps you missed a comma?\n",
      "<string>:1: SyntaxWarning: 'tuple' object is not callable; perhaps you missed a comma?\n",
      "<string>:1: SyntaxWarning: 'tuple' object is not callable; perhaps you missed a comma?\n",
      "<string>:1: SyntaxWarning: 'tuple' object is not callable; perhaps you missed a comma?\n",
      "<string>:1: SyntaxWarning: 'tuple' object is not callable; perhaps you missed a comma?\n",
      "<string>:1: SyntaxWarning: 'tuple' object is not callable; perhaps you missed a comma?\n",
      "<string>:1: SyntaxWarning: 'tuple' object is not callable; perhaps you missed a comma?\n",
      "<string>:1: SyntaxWarning: 'tuple' object is not callable; perhaps you missed a comma?\n",
      "<string>:1: SyntaxWarning: 'tuple' object is not callable; perhaps you missed a comma?\n",
      "<string>:1: SyntaxWarning: 'tuple' object is not callable; perhaps you missed a comma?\n",
      "<string>:1: SyntaxWarning: 'tuple' object is not callable; perhaps you missed a comma?\n",
      "<string>:1: SyntaxWarning: 'tuple' object is not callable; perhaps you missed a comma?\n",
      "<string>:1: SyntaxWarning: 'tuple' object is not callable; perhaps you missed a comma?\n",
      "<string>:1: SyntaxWarning: 'tuple' object is not callable; perhaps you missed a comma?\n",
      "<string>:1: SyntaxWarning: 'tuple' object is not callable; perhaps you missed a comma?\n",
      "<string>:1: SyntaxWarning: 'tuple' object is not callable; perhaps you missed a comma?\n",
      "<string>:1: SyntaxWarning: 'tuple' object is not callable; perhaps you missed a comma?\n",
      "<string>:1: SyntaxWarning: 'tuple' object is not callable; perhaps you missed a comma?\n",
      "<string>:1: SyntaxWarning: 'tuple' object is not callable; perhaps you missed a comma?\n",
      "<string>:1: SyntaxWarning: 'tuple' object is not callable; perhaps you missed a comma?\n",
      "<string>:1: SyntaxWarning: 'tuple' object is not callable; perhaps you missed a comma?\n",
      "<string>:1: SyntaxWarning: 'tuple' object is not callable; perhaps you missed a comma?\n",
      "<string>:1: SyntaxWarning: 'tuple' object is not callable; perhaps you missed a comma?\n",
      "<string>:1: SyntaxWarning: 'tuple' object is not callable; perhaps you missed a comma?\n",
      "<string>:1: SyntaxWarning: 'tuple' object is not callable; perhaps you missed a comma?\n",
      "<string>:1: SyntaxWarning: 'tuple' object is not callable; perhaps you missed a comma?\n",
      "<string>:1: SyntaxWarning: 'tuple' object is not callable; perhaps you missed a comma?\n",
      "<string>:1: SyntaxWarning: 'tuple' object is not callable; perhaps you missed a comma?\n",
      "<string>:1: SyntaxWarning: 'tuple' object is not callable; perhaps you missed a comma?\n",
      "<string>:1: SyntaxWarning: 'tuple' object is not callable; perhaps you missed a comma?\n",
      "<string>:1: SyntaxWarning: 'tuple' object is not callable; perhaps you missed a comma?\n",
      "<string>:1: SyntaxWarning: 'tuple' object is not callable; perhaps you missed a comma?\n",
      "<string>:1: SyntaxWarning: 'tuple' object is not callable; perhaps you missed a comma?\n",
      "<string>:1: SyntaxWarning: 'tuple' object is not callable; perhaps you missed a comma?\n",
      "<string>:1: SyntaxWarning: 'tuple' object is not callable; perhaps you missed a comma?\n",
      "<string>:1: SyntaxWarning: 'tuple' object is not callable; perhaps you missed a comma?\n",
      "<string>:1: SyntaxWarning: 'tuple' object is not callable; perhaps you missed a comma?\n",
      "<string>:1: SyntaxWarning: 'tuple' object is not callable; perhaps you missed a comma?\n"
     ]
    },
    {
     "data": {
      "application/vnd.jupyter.widget-view+json": {
       "model_id": "48da243136ce4822ba34d55e0e0ccd23",
       "version_major": 2,
       "version_minor": 0
      },
      "text/plain": [
       "VBox(children=(HBox(children=(IntProgress(value=0, description='0.00%', max=7), Label(value='0 / 7'))), HBox(c…"
      ]
     },
     "metadata": {},
     "output_type": "display_data"
    },
    {
     "name": "stderr",
     "output_type": "stream",
     "text": [
      "/home/xkadlci2/gadgets/gadgets/markup.py:14: MarkupResemblesLocatorWarning: The input looks more like a filename than markup. You may want to open this file and pass the filehandle into Beautiful Soup.\n",
      "  return bs4.BeautifulSoup(step, features=\"html.parser\")\n",
      "/home/xkadlci2/gadgets/gadgets/markup.py:14: MarkupResemblesLocatorWarning: The input looks more like a filename than markup. You may want to open this file and pass the filehandle into Beautiful Soup.\n",
      "  return bs4.BeautifulSoup(step, features=\"html.parser\")\n",
      "/home/xkadlci2/gadgets/gadgets/markup.py:14: MarkupResemblesLocatorWarning: The input looks more like a filename than markup. You may want to open this file and pass the filehandle into Beautiful Soup.\n",
      "  return bs4.BeautifulSoup(step, features=\"html.parser\")\n",
      "/home/xkadlci2/gadgets/gadgets/markup.py:14: MarkupResemblesLocatorWarning: The input looks more like a filename than markup. You may want to open this file and pass the filehandle into Beautiful Soup.\n",
      "  return bs4.BeautifulSoup(step, features=\"html.parser\")\n",
      "/home/xkadlci2/gadgets/gadgets/markup.py:14: MarkupResemblesLocatorWarning: The input looks more like a filename than markup. You may want to open this file and pass the filehandle into Beautiful Soup.\n",
      "  return bs4.BeautifulSoup(step, features=\"html.parser\")\n",
      "/home/xkadlci2/gadgets/gadgets/markup.py:14: MarkupResemblesLocatorWarning: The input looks more like a filename than markup. You may want to open this file and pass the filehandle into Beautiful Soup.\n",
      "  return bs4.BeautifulSoup(step, features=\"html.parser\")\n",
      "/home/xkadlci2/gadgets/gadgets/markup.py:14: MarkupResemblesLocatorWarning: The input looks more like a filename than markup. You may want to open this file and pass the filehandle into Beautiful Soup.\n",
      "  return bs4.BeautifulSoup(step, features=\"html.parser\")\n",
      "/home/xkadlci2/gadgets/gadgets/markup.py:14: MarkupResemblesLocatorWarning: The input looks more like a filename than markup. You may want to open this file and pass the filehandle into Beautiful Soup.\n",
      "  return bs4.BeautifulSoup(step, features=\"html.parser\")\n",
      "/home/xkadlci2/gadgets/gadgets/markup.py:14: MarkupResemblesLocatorWarning: The input looks more like a filename than markup. You may want to open this file and pass the filehandle into Beautiful Soup.\n",
      "  return bs4.BeautifulSoup(step, features=\"html.parser\")\n",
      "/home/xkadlci2/gadgets/gadgets/markup.py:14: MarkupResemblesLocatorWarning: The input looks more like a filename than markup. You may want to open this file and pass the filehandle into Beautiful Soup.\n",
      "  return bs4.BeautifulSoup(step, features=\"html.parser\")\n",
      "/home/xkadlci2/gadgets/gadgets/markup.py:14: MarkupResemblesLocatorWarning: The input looks more like a filename than markup. You may want to open this file and pass the filehandle into Beautiful Soup.\n",
      "  return bs4.BeautifulSoup(step, features=\"html.parser\")\n",
      "/home/xkadlci2/gadgets/gadgets/markup.py:14: MarkupResemblesLocatorWarning: The input looks more like a filename than markup. You may want to open this file and pass the filehandle into Beautiful Soup.\n",
      "  return bs4.BeautifulSoup(step, features=\"html.parser\")\n",
      "/home/xkadlci2/gadgets/gadgets/markup.py:14: MarkupResemblesLocatorWarning: The input looks more like a filename than markup. You may want to open this file and pass the filehandle into Beautiful Soup.\n",
      "  return bs4.BeautifulSoup(step, features=\"html.parser\")\n",
      "/home/xkadlci2/gadgets/gadgets/markup.py:14: MarkupResemblesLocatorWarning: The input looks more like a filename than markup. You may want to open this file and pass the filehandle into Beautiful Soup.\n",
      "  return bs4.BeautifulSoup(step, features=\"html.parser\")\n",
      "/home/xkadlci2/gadgets/gadgets/markup.py:14: MarkupResemblesLocatorWarning: The input looks more like a filename than markup. You may want to open this file and pass the filehandle into Beautiful Soup.\n",
      "  return bs4.BeautifulSoup(step, features=\"html.parser\")\n",
      "/home/xkadlci2/gadgets/gadgets/markup.py:14: MarkupResemblesLocatorWarning: The input looks more like a filename than markup. You may want to open this file and pass the filehandle into Beautiful Soup.\n",
      "  return bs4.BeautifulSoup(step, features=\"html.parser\")\n",
      "/home/xkadlci2/gadgets/gadgets/markup.py:14: MarkupResemblesLocatorWarning: The input looks more like a filename than markup. You may want to open this file and pass the filehandle into Beautiful Soup.\n",
      "  return bs4.BeautifulSoup(step, features=\"html.parser\")\n",
      "/home/xkadlci2/gadgets/gadgets/markup.py:14: MarkupResemblesLocatorWarning: The input looks more like a filename than markup. You may want to open this file and pass the filehandle into Beautiful Soup.\n",
      "  return bs4.BeautifulSoup(step, features=\"html.parser\")\n",
      "/home/xkadlci2/gadgets/gadgets/markup.py:14: MarkupResemblesLocatorWarning: The input looks more like a filename than markup. You may want to open this file and pass the filehandle into Beautiful Soup.\n",
      "  return bs4.BeautifulSoup(step, features=\"html.parser\")\n",
      "/home/xkadlci2/gadgets/gadgets/markup.py:14: MarkupResemblesLocatorWarning: The input looks more like a filename than markup. You may want to open this file and pass the filehandle into Beautiful Soup.\n",
      "  return bs4.BeautifulSoup(step, features=\"html.parser\")\n",
      "/home/xkadlci2/gadgets/gadgets/markup.py:14: MarkupResemblesLocatorWarning: The input looks more like a filename than markup. You may want to open this file and pass the filehandle into Beautiful Soup.\n",
      "  return bs4.BeautifulSoup(step, features=\"html.parser\")\n",
      "/home/xkadlci2/gadgets/gadgets/markup.py:14: MarkupResemblesLocatorWarning: The input looks more like a filename than markup. You may want to open this file and pass the filehandle into Beautiful Soup.\n",
      "  return bs4.BeautifulSoup(step, features=\"html.parser\")\n",
      "/home/xkadlci2/gadgets/gadgets/markup.py:14: MarkupResemblesLocatorWarning: The input looks more like a filename than markup. You may want to open this file and pass the filehandle into Beautiful Soup.\n",
      "  return bs4.BeautifulSoup(step, features=\"html.parser\")\n",
      "/home/xkadlci2/gadgets/gadgets/markup.py:14: MarkupResemblesLocatorWarning: The input looks more like a filename than markup. You may want to open this file and pass the filehandle into Beautiful Soup.\n",
      "  return bs4.BeautifulSoup(step, features=\"html.parser\")\n",
      "/home/xkadlci2/gadgets/gadgets/markup.py:14: MarkupResemblesLocatorWarning: The input looks more like a filename than markup. You may want to open this file and pass the filehandle into Beautiful Soup.\n",
      "  return bs4.BeautifulSoup(step, features=\"html.parser\")\n",
      "/home/xkadlci2/gadgets/gadgets/markup.py:14: MarkupResemblesLocatorWarning: The input looks more like a filename than markup. You may want to open this file and pass the filehandle into Beautiful Soup.\n",
      "  return bs4.BeautifulSoup(step, features=\"html.parser\")\n",
      "/home/xkadlci2/gadgets/gadgets/markup.py:14: MarkupResemblesLocatorWarning: The input looks more like a filename than markup. You may want to open this file and pass the filehandle into Beautiful Soup.\n",
      "  return bs4.BeautifulSoup(step, features=\"html.parser\")\n",
      "/home/xkadlci2/gadgets/gadgets/markup.py:14: MarkupResemblesLocatorWarning: The input looks more like a filename than markup. You may want to open this file and pass the filehandle into Beautiful Soup.\n",
      "  return bs4.BeautifulSoup(step, features=\"html.parser\")\n",
      "/home/xkadlci2/gadgets/gadgets/markup.py:14: MarkupResemblesLocatorWarning: The input looks more like a filename than markup. You may want to open this file and pass the filehandle into Beautiful Soup.\n",
      "  return bs4.BeautifulSoup(step, features=\"html.parser\")\n",
      "/home/xkadlci2/gadgets/gadgets/markup.py:14: MarkupResemblesLocatorWarning: The input looks more like a filename than markup. You may want to open this file and pass the filehandle into Beautiful Soup.\n",
      "  return bs4.BeautifulSoup(step, features=\"html.parser\")\n",
      "/home/xkadlci2/gadgets/gadgets/markup.py:14: MarkupResemblesLocatorWarning: The input looks more like a filename than markup. You may want to open this file and pass the filehandle into Beautiful Soup.\n",
      "  return bs4.BeautifulSoup(step, features=\"html.parser\")\n",
      "/home/xkadlci2/gadgets/gadgets/markup.py:14: MarkupResemblesLocatorWarning: The input looks more like a filename than markup. You may want to open this file and pass the filehandle into Beautiful Soup.\n",
      "  return bs4.BeautifulSoup(step, features=\"html.parser\")\n",
      "/home/xkadlci2/gadgets/gadgets/markup.py:14: MarkupResemblesLocatorWarning: The input looks more like a filename than markup. You may want to open this file and pass the filehandle into Beautiful Soup.\n",
      "  return bs4.BeautifulSoup(step, features=\"html.parser\")\n",
      "/home/xkadlci2/gadgets/gadgets/markup.py:14: MarkupResemblesLocatorWarning: The input looks more like a filename than markup. You may want to open this file and pass the filehandle into Beautiful Soup.\n",
      "  return bs4.BeautifulSoup(step, features=\"html.parser\")\n",
      "/home/xkadlci2/gadgets/gadgets/markup.py:14: MarkupResemblesLocatorWarning: The input looks more like a filename than markup. You may want to open this file and pass the filehandle into Beautiful Soup.\n",
      "  return bs4.BeautifulSoup(step, features=\"html.parser\")\n",
      "/home/xkadlci2/gadgets/gadgets/markup.py:14: MarkupResemblesLocatorWarning: The input looks more like a filename than markup. You may want to open this file and pass the filehandle into Beautiful Soup.\n",
      "  return bs4.BeautifulSoup(step, features=\"html.parser\")\n",
      "/home/xkadlci2/gadgets/gadgets/markup.py:14: MarkupResemblesLocatorWarning: The input looks more like a filename than markup. You may want to open this file and pass the filehandle into Beautiful Soup.\n",
      "  return bs4.BeautifulSoup(step, features=\"html.parser\")\n",
      "/home/xkadlci2/gadgets/gadgets/markup.py:14: MarkupResemblesLocatorWarning: The input looks more like a filename than markup. You may want to open this file and pass the filehandle into Beautiful Soup.\n",
      "  return bs4.BeautifulSoup(step, features=\"html.parser\")\n",
      "/home/xkadlci2/gadgets/gadgets/markup.py:14: MarkupResemblesLocatorWarning: The input looks more like a filename than markup. You may want to open this file and pass the filehandle into Beautiful Soup.\n",
      "  return bs4.BeautifulSoup(step, features=\"html.parser\")\n"
     ]
    },
    {
     "data": {
      "application/vnd.jupyter.widget-view+json": {
       "model_id": "b916f82bc3ea4f1ba03e253fc324a1bd",
       "version_major": 2,
       "version_minor": 0
      },
      "text/plain": [
       "VBox(children=(HBox(children=(IntProgress(value=0, description='0.00%', max=7), Label(value='0 / 7'))), HBox(c…"
      ]
     },
     "metadata": {},
     "output_type": "display_data"
    },
    {
     "name": "stderr",
     "output_type": "stream",
     "text": [
      "/home/xkadlci2/gadgets/gadgets/markup.py:14: MarkupResemblesLocatorWarning: The input looks more like a filename than markup. You may want to open this file and pass the filehandle into Beautiful Soup.\n",
      "  return bs4.BeautifulSoup(step, features=\"html.parser\")\n",
      "/home/xkadlci2/gadgets/gadgets/markup.py:14: MarkupResemblesLocatorWarning: The input looks more like a filename than markup. You may want to open this file and pass the filehandle into Beautiful Soup.\n",
      "  return bs4.BeautifulSoup(step, features=\"html.parser\")\n",
      "/home/xkadlci2/gadgets/gadgets/markup.py:14: MarkupResemblesLocatorWarning: The input looks more like a filename than markup. You may want to open this file and pass the filehandle into Beautiful Soup.\n",
      "  return bs4.BeautifulSoup(step, features=\"html.parser\")\n",
      "/home/xkadlci2/gadgets/gadgets/markup.py:14: MarkupResemblesLocatorWarning: The input looks more like a filename than markup. You may want to open this file and pass the filehandle into Beautiful Soup.\n",
      "  return bs4.BeautifulSoup(step, features=\"html.parser\")\n",
      "/home/xkadlci2/gadgets/gadgets/markup.py:14: MarkupResemblesLocatorWarning: The input looks more like a filename than markup. You may want to open this file and pass the filehandle into Beautiful Soup.\n",
      "  return bs4.BeautifulSoup(step, features=\"html.parser\")\n",
      "/home/xkadlci2/gadgets/gadgets/markup.py:14: MarkupResemblesLocatorWarning: The input looks more like a filename than markup. You may want to open this file and pass the filehandle into Beautiful Soup.\n",
      "  return bs4.BeautifulSoup(step, features=\"html.parser\")\n",
      "/home/xkadlci2/gadgets/gadgets/markup.py:14: MarkupResemblesLocatorWarning: The input looks more like a filename than markup. You may want to open this file and pass the filehandle into Beautiful Soup.\n",
      "  return bs4.BeautifulSoup(step, features=\"html.parser\")\n",
      "/home/xkadlci2/gadgets/gadgets/markup.py:14: MarkupResemblesLocatorWarning: The input looks more like a filename than markup. You may want to open this file and pass the filehandle into Beautiful Soup.\n",
      "  return bs4.BeautifulSoup(step, features=\"html.parser\")\n",
      "/home/xkadlci2/gadgets/gadgets/markup.py:14: MarkupResemblesLocatorWarning: The input looks more like a filename than markup. You may want to open this file and pass the filehandle into Beautiful Soup.\n",
      "  return bs4.BeautifulSoup(step, features=\"html.parser\")\n",
      "/home/xkadlci2/gadgets/gadgets/markup.py:14: MarkupResemblesLocatorWarning: The input looks more like a filename than markup. You may want to open this file and pass the filehandle into Beautiful Soup.\n",
      "  return bs4.BeautifulSoup(step, features=\"html.parser\")\n",
      "/home/xkadlci2/gadgets/gadgets/markup.py:14: MarkupResemblesLocatorWarning: The input looks more like a filename than markup. You may want to open this file and pass the filehandle into Beautiful Soup.\n",
      "  return bs4.BeautifulSoup(step, features=\"html.parser\")\n",
      "/home/xkadlci2/gadgets/gadgets/markup.py:14: MarkupResemblesLocatorWarning: The input looks more like a filename than markup. You may want to open this file and pass the filehandle into Beautiful Soup.\n",
      "  return bs4.BeautifulSoup(step, features=\"html.parser\")\n",
      "/home/xkadlci2/gadgets/gadgets/markup.py:14: MarkupResemblesLocatorWarning: The input looks more like a filename than markup. You may want to open this file and pass the filehandle into Beautiful Soup.\n",
      "  return bs4.BeautifulSoup(step, features=\"html.parser\")\n",
      "/home/xkadlci2/gadgets/gadgets/markup.py:14: MarkupResemblesLocatorWarning: The input looks more like a filename than markup. You may want to open this file and pass the filehandle into Beautiful Soup.\n",
      "  return bs4.BeautifulSoup(step, features=\"html.parser\")\n",
      "/home/xkadlci2/gadgets/gadgets/markup.py:14: MarkupResemblesLocatorWarning: The input looks more like a filename than markup. You may want to open this file and pass the filehandle into Beautiful Soup.\n",
      "  return bs4.BeautifulSoup(step, features=\"html.parser\")\n",
      "/home/xkadlci2/gadgets/gadgets/markup.py:14: MarkupResemblesLocatorWarning: The input looks more like a filename than markup. You may want to open this file and pass the filehandle into Beautiful Soup.\n",
      "  return bs4.BeautifulSoup(step, features=\"html.parser\")\n",
      "/home/xkadlci2/gadgets/gadgets/markup.py:14: MarkupResemblesLocatorWarning: The input looks more like a filename than markup. You may want to open this file and pass the filehandle into Beautiful Soup.\n",
      "  return bs4.BeautifulSoup(step, features=\"html.parser\")\n",
      "/home/xkadlci2/gadgets/gadgets/markup.py:14: MarkupResemblesLocatorWarning: The input looks more like a filename than markup. You may want to open this file and pass the filehandle into Beautiful Soup.\n",
      "  return bs4.BeautifulSoup(step, features=\"html.parser\")\n",
      "/home/xkadlci2/gadgets/gadgets/markup.py:14: MarkupResemblesLocatorWarning: The input looks more like a filename than markup. You may want to open this file and pass the filehandle into Beautiful Soup.\n",
      "  return bs4.BeautifulSoup(step, features=\"html.parser\")\n",
      "/home/xkadlci2/gadgets/gadgets/markup.py:14: MarkupResemblesLocatorWarning: The input looks more like a filename than markup. You may want to open this file and pass the filehandle into Beautiful Soup.\n",
      "  return bs4.BeautifulSoup(step, features=\"html.parser\")\n",
      "/home/xkadlci2/gadgets/gadgets/markup.py:14: MarkupResemblesLocatorWarning: The input looks more like a filename than markup. You may want to open this file and pass the filehandle into Beautiful Soup.\n",
      "  return bs4.BeautifulSoup(step, features=\"html.parser\")\n",
      "/home/xkadlci2/gadgets/gadgets/markup.py:14: MarkupResemblesLocatorWarning: The input looks more like a filename than markup. You may want to open this file and pass the filehandle into Beautiful Soup.\n",
      "  return bs4.BeautifulSoup(step, features=\"html.parser\")\n",
      "/home/xkadlci2/gadgets/gadgets/markup.py:14: MarkupResemblesLocatorWarning: The input looks more like a filename than markup. You may want to open this file and pass the filehandle into Beautiful Soup.\n",
      "  return bs4.BeautifulSoup(step, features=\"html.parser\")\n",
      "/home/xkadlci2/gadgets/gadgets/markup.py:14: MarkupResemblesLocatorWarning: The input looks more like a filename than markup. You may want to open this file and pass the filehandle into Beautiful Soup.\n",
      "  return bs4.BeautifulSoup(step, features=\"html.parser\")\n",
      "/home/xkadlci2/gadgets/gadgets/markup.py:14: MarkupResemblesLocatorWarning: The input looks more like a filename than markup. You may want to open this file and pass the filehandle into Beautiful Soup.\n",
      "  return bs4.BeautifulSoup(step, features=\"html.parser\")\n",
      "/home/xkadlci2/gadgets/gadgets/markup.py:14: MarkupResemblesLocatorWarning: The input looks more like a filename than markup. You may want to open this file and pass the filehandle into Beautiful Soup.\n",
      "  return bs4.BeautifulSoup(step, features=\"html.parser\")\n",
      "/home/xkadlci2/gadgets/gadgets/markup.py:14: MarkupResemblesLocatorWarning: The input looks more like a filename than markup. You may want to open this file and pass the filehandle into Beautiful Soup.\n",
      "  return bs4.BeautifulSoup(step, features=\"html.parser\")\n",
      "/home/xkadlci2/gadgets/gadgets/markup.py:14: MarkupResemblesLocatorWarning: The input looks more like a filename than markup. You may want to open this file and pass the filehandle into Beautiful Soup.\n",
      "  return bs4.BeautifulSoup(step, features=\"html.parser\")\n",
      "/home/xkadlci2/gadgets/gadgets/markup.py:14: MarkupResemblesLocatorWarning: The input looks more like a filename than markup. You may want to open this file and pass the filehandle into Beautiful Soup.\n",
      "  return bs4.BeautifulSoup(step, features=\"html.parser\")\n",
      "/home/xkadlci2/gadgets/gadgets/markup.py:14: MarkupResemblesLocatorWarning: The input looks more like a filename than markup. You may want to open this file and pass the filehandle into Beautiful Soup.\n",
      "  return bs4.BeautifulSoup(step, features=\"html.parser\")\n",
      "/home/xkadlci2/gadgets/gadgets/markup.py:14: MarkupResemblesLocatorWarning: The input looks more like a filename than markup. You may want to open this file and pass the filehandle into Beautiful Soup.\n",
      "  return bs4.BeautifulSoup(step, features=\"html.parser\")\n",
      "/home/xkadlci2/gadgets/gadgets/markup.py:14: MarkupResemblesLocatorWarning: The input looks more like a filename than markup. You may want to open this file and pass the filehandle into Beautiful Soup.\n",
      "  return bs4.BeautifulSoup(step, features=\"html.parser\")\n",
      "/home/xkadlci2/gadgets/gadgets/markup.py:14: MarkupResemblesLocatorWarning: The input looks more like a filename than markup. You may want to open this file and pass the filehandle into Beautiful Soup.\n",
      "  return bs4.BeautifulSoup(step, features=\"html.parser\")\n",
      "/home/xkadlci2/gadgets/gadgets/markup.py:14: MarkupResemblesLocatorWarning: The input looks more like a filename than markup. You may want to open this file and pass the filehandle into Beautiful Soup.\n",
      "  return bs4.BeautifulSoup(step, features=\"html.parser\")\n",
      "/home/xkadlci2/gadgets/gadgets/markup.py:14: MarkupResemblesLocatorWarning: The input looks more like a filename than markup. You may want to open this file and pass the filehandle into Beautiful Soup.\n",
      "  return bs4.BeautifulSoup(step, features=\"html.parser\")\n",
      "/home/xkadlci2/gadgets/gadgets/markup.py:14: MarkupResemblesLocatorWarning: The input looks more like a filename than markup. You may want to open this file and pass the filehandle into Beautiful Soup.\n",
      "  return bs4.BeautifulSoup(step, features=\"html.parser\")\n",
      "/home/xkadlci2/gadgets/gadgets/markup.py:14: MarkupResemblesLocatorWarning: The input looks more like a filename than markup. You may want to open this file and pass the filehandle into Beautiful Soup.\n",
      "  return bs4.BeautifulSoup(step, features=\"html.parser\")\n",
      "/home/xkadlci2/gadgets/gadgets/markup.py:14: MarkupResemblesLocatorWarning: The input looks more like a filename than markup. You may want to open this file and pass the filehandle into Beautiful Soup.\n",
      "  return bs4.BeautifulSoup(step, features=\"html.parser\")\n",
      "/home/xkadlci2/gadgets/gadgets/markup.py:14: MarkupResemblesLocatorWarning: The input looks more like a filename than markup. You may want to open this file and pass the filehandle into Beautiful Soup.\n",
      "  return bs4.BeautifulSoup(step, features=\"html.parser\")\n",
      "/home/xkadlci2/gadgets/gadgets/markup.py:14: MarkupResemblesLocatorWarning: The input looks more like a filename than markup. You may want to open this file and pass the filehandle into Beautiful Soup.\n",
      "  return bs4.BeautifulSoup(step, features=\"html.parser\")\n"
     ]
    }
   ],
   "source": [
    "def transform_chain(row) -> str:\n",
    "    example = gadgets.aqua.parse(row.to_dict())\n",
    "    markup = gadgets.markup.to_model_markup(example=example)\n",
    "    return str(markup)\n",
    "\n",
    "for split in orig_aqua.keys():\n",
    "    aqua[split][\"chain\"] = orig_aqua[split].to_pandas().parallel_apply(transform_chain, axis=1)"
   ]
  },
  {
   "cell_type": "code",
   "execution_count": 30,
   "metadata": {},
   "outputs": [],
   "source": [
    "prompt_selects = [\"Options\", \"Choices\", \"Choose one\", \"Pick one\", \"Select the correct option\", \"Select\", \"Pick\", \"Answers\", \"Choose the most appropriate option\", \"Choose the correct option\", \"Choose the correct answer\", \"Choose the correct choice\", \"Choose the correct choice from the following\", \"Choose the correct choice from the following options\", \"Choose the correct choice from the following answers\", \"Choose the correct choice from the following answers\", \"Choose the correct choice from the following choices\"]\n",
    "prompt_select_seps = [\".\\n\", \":\", \":\\n\", \"\\n\"]\n",
    "whitespace_seps = [\" \", \"  \", \"\\n\", \"\\t\"]\n",
    "\n",
    "def format_question_with_options(question: str, options: dict[str, str]):\n",
    "    prompt_select = random.choice(prompt_selects)\n",
    "    sep_1 = random.choice(whitespace_seps)\n",
    "    sep_2 = random.choice(prompt_select_seps)\n",
    "    sep_3 = random.choice(whitespace_seps)\n",
    "    if not sep_2.endswith(\"\\n\"):\n",
    "        sep_2 += sep_3\n",
    "    return question + sep_1 + prompt_select + sep_2 + sep_3.join(f\"{k.upper()}) {v}\" for k, v in options.items())\n",
    "    "
   ]
  },
  {
   "cell_type": "code",
   "execution_count": 31,
   "metadata": {},
   "outputs": [],
   "source": [
    "aqua[\"train\"].head()\n",
    "random.seed(42)\n",
    "for split in aqua.keys():\n",
    "    aqua[split] = pd.DataFrame({\n",
    "        \"id\": aqua[split][\"id\"],\n",
    "        \"question\": [format_question_with_options(q, o) for q, o in zip(aqua[split][\"question\"], aqua[split][\"options\"])],\n",
    "        \"chain\": aqua[split][\"chain\"],\n",
    "        \"result\": aqua[split][\"correct\"],\n",
    "        \"options\": aqua[split][\"options\"],\n",
    "        \"question_without_options\": aqua[split][\"question\"],\n",
    "        \"question_tokenized\": aqua[split][\"tokenized_question\"],\n",
    "    })\n",
    "    "
   ]
  },
  {
   "cell_type": "code",
   "execution_count": 32,
   "metadata": {},
   "outputs": [
    {
     "data": {
      "text/plain": [
       "{'id': 'aqua_rat__TeUuCx2QFEzwmZzg',\n",
       " 'question': \"Two friends plan to walk along a 43-km trail, starting at opposite ends of the trail at the same time. If Friend P's rate is 15% faster than Friend Q's, how many kilometers will Friend P have walked when they pass each other? Pick one:\\nA) 21  B) 21.5  C) 22  D) 22.5  E) 23\",\n",
       " 'chain': 'If Q complete x kilometers, then P completes 1.15x kilometers.   x + 1.15x = 43   2.15x=43   x = 43/2.15= \\n<gadget id=\"calculator\">43/2.15</gadget>\\n<output>20</output>\\n20   Then P will have have walked   1.15*20= \\n<gadget id=\"calculator\">  1.15*20</gadget>\\n<output>23</output>\\n23 km.   The answer is 23.\\n<result>E</result>',\n",
       " 'result': 'E',\n",
       " 'options': {'A': '21', 'B': '21.5', 'C': '22', 'D': '22.5', 'E': '23'},\n",
       " 'question_without_options': \"Two friends plan to walk along a 43-km trail, starting at opposite ends of the trail at the same time. If Friend P's rate is 15% faster than Friend Q's, how many kilometers will Friend P have walked when they pass each other?\",\n",
       " 'question_tokenized': \"Two friends plan to walk along a 43 - km trail , starting at opposite ends of the trail at the same time . If Friend P ' s rate is 15 % faster than Friend Q ' s , how many kilometers will Friend P have walked when they pass each other ?\"}"
      ]
     },
     "execution_count": 32,
     "metadata": {},
     "output_type": "execute_result"
    }
   ],
   "source": [
    "aqua[\"train\"].iloc[0].to_dict()"
   ]
  },
  {
   "cell_type": "code",
   "execution_count": 33,
   "metadata": {},
   "outputs": [
    {
     "data": {
      "application/vnd.jupyter.widget-view+json": {
       "model_id": "45273ad1b8ef46d6806443f921009429",
       "version_major": 2,
       "version_minor": 0
      },
      "text/plain": [
       "Pushing dataset shards to the dataset hub:   0%|          | 0/1 [00:00<?, ?it/s]"
      ]
     },
     "metadata": {},
     "output_type": "display_data"
    },
    {
     "data": {
      "application/vnd.jupyter.widget-view+json": {
       "model_id": "ea3f7accd60a497bb9d4ae497bfc0ea6",
       "version_major": 2,
       "version_minor": 0
      },
      "text/plain": [
       "Creating parquet from Arrow format:   0%|          | 0/98 [00:00<?, ?ba/s]"
      ]
     },
     "metadata": {},
     "output_type": "display_data"
    },
    {
     "data": {
      "application/vnd.jupyter.widget-view+json": {
       "model_id": "0065e54936814552b4f087f88ee44ff7",
       "version_major": 2,
       "version_minor": 0
      },
      "text/plain": [
       "Pushing dataset shards to the dataset hub:   0%|          | 0/1 [00:00<?, ?it/s]"
      ]
     },
     "metadata": {},
     "output_type": "display_data"
    },
    {
     "data": {
      "application/vnd.jupyter.widget-view+json": {
       "model_id": "79f9310c53924d469032b69956254845",
       "version_major": 2,
       "version_minor": 0
      },
      "text/plain": [
       "Creating parquet from Arrow format:   0%|          | 0/1 [00:00<?, ?ba/s]"
      ]
     },
     "metadata": {},
     "output_type": "display_data"
    },
    {
     "data": {
      "application/vnd.jupyter.widget-view+json": {
       "model_id": "263f7d36a0ef4d5489c009487fc599fc",
       "version_major": 2,
       "version_minor": 0
      },
      "text/plain": [
       "Pushing dataset shards to the dataset hub:   0%|          | 0/1 [00:00<?, ?it/s]"
      ]
     },
     "metadata": {},
     "output_type": "display_data"
    },
    {
     "data": {
      "application/vnd.jupyter.widget-view+json": {
       "model_id": "5f24ca3ba9904ec5b91695f35649fc2d",
       "version_major": 2,
       "version_minor": 0
      },
      "text/plain": [
       "Creating parquet from Arrow format:   0%|          | 0/1 [00:00<?, ?ba/s]"
      ]
     },
     "metadata": {},
     "output_type": "display_data"
    },
    {
     "data": {
      "application/vnd.jupyter.widget-view+json": {
       "model_id": "69623d6de71d4d54830de484b8254917",
       "version_major": 2,
       "version_minor": 0
      },
      "text/plain": [
       "Downloading metadata:   0%|          | 0.00/4.34k [00:00<?, ?B/s]"
      ]
     },
     "metadata": {},
     "output_type": "display_data"
    }
   ],
   "source": [
    "ds = datasets.DatasetDict({\n",
    "    \"train\": datasets.Dataset.from_pandas(aqua[\"train\"]),\n",
    "    \"validation\": datasets.Dataset.from_pandas(aqua[\"validation\"]),\n",
    "    \"test\": datasets.Dataset.from_pandas(aqua[\"test\"]),\n",
    "})\n",
    "\n",
    "#ds.push_to_hub(\"MU-NLPC/Calc-aqua_rat\", config_name=\"original-splits\")"
   ]
  },
  {
   "cell_type": "code",
   "execution_count": null,
   "metadata": {},
   "outputs": [],
   "source": []
  }
 ],
 "metadata": {
  "kernelspec": {
   "display_name": "gadgets",
   "language": "python",
   "name": "python3"
  },
  "language_info": {
   "codemirror_mode": {
    "name": "ipython",
    "version": 3
   },
   "file_extension": ".py",
   "mimetype": "text/x-python",
   "name": "python",
   "nbconvert_exporter": "python",
   "pygments_lexer": "ipython3",
   "version": "3.10.12"
  }
 },
 "nbformat": 4,
 "nbformat_minor": 2
}
