{
 "cells": [
  {
   "cell_type": "code",
   "execution_count": 29,
   "metadata": {},
   "outputs": [],
   "source": [
    "import numpy as np\n",
    "import pandas as pd\n",
    "import datasets\n",
    "\n",
    "import gadgets"
   ]
  },
  {
   "cell_type": "code",
   "execution_count": 30,
   "metadata": {},
   "outputs": [],
   "source": [
    "orig_aqua = datasets.load_dataset(\"aqua_rat\")"
   ]
  },
  {
   "cell_type": "code",
   "execution_count": 31,
   "metadata": {},
   "outputs": [
    {
     "data": {
      "text/plain": [
       "{'question': \"Two friends plan to walk along a 43-km trail, starting at opposite ends of the trail at the same time. If Friend P's rate is 15% faster than Friend Q's, how many kilometers will Friend P have walked when they pass each other?\",\n",
       " 'options': ['A)21', 'B)21.5', 'C)22', 'D)22.5', 'E)23'],\n",
       " 'rationale': 'If Q complete x kilometers, then P completes 1.15x kilometers.\\nx + 1.15x = 43\\n2.15x=43\\nx = 43/2.15 = 20\\nThen P will have have walked 1.15*20=23 km.\\nThe answer is E.',\n",
       " 'correct': 'E'}"
      ]
     },
     "execution_count": 31,
     "metadata": {},
     "output_type": "execute_result"
    }
   ],
   "source": [
    "orig_aqua[\"train\"][0]"
   ]
  },
  {
   "cell_type": "code",
   "execution_count": 32,
   "metadata": {},
   "outputs": [],
   "source": [
    "aqua = {}\n",
    "\n",
    "def parse_options(options: list[str]) -> dict[str, str]:\n",
    "    assert len(options) == 5\n",
    "    options_dict = {\"A\": None, \"B\": None, \"C\": None, \"D\": None, \"E\": None}\n",
    "    for option, letter in zip(options, options_dict.keys()):\n",
    "        prefix = letter + \")\"\n",
    "        assert option.startswith(prefix)\n",
    "        options_dict[letter] = option.removeprefix(prefix).strip()\n",
    "    return options_dict\n",
    "\n",
    "for split in orig_aqua.keys():\n",
    "    aqua[split] = orig_aqua[split].to_pandas()\n",
    "    aqua[split][\"options\"] = aqua[split][\"options\"].apply(parse_options)\n",
    "    aqua[split][\"correct\"] = aqua[split][\"correct\"].str.upper().str.strip()\n",
    "    assert set(aqua[split][\"correct\"].unique()) == {\"A\", \"B\", \"C\", \"D\", \"E\"}\n"
   ]
  },
  {
   "cell_type": "code",
   "execution_count": 33,
   "metadata": {},
   "outputs": [
    {
     "name": "stdout",
     "output_type": "stream",
     "text": [
      "INFO: Pandarallel will run on 40 workers.\n",
      "INFO: Pandarallel will use Memory file system to transfer data between the main process and workers.\n"
     ]
    }
   ],
   "source": [
    "import pandarallel\n",
    "\n",
    "pandarallel.pandarallel.initialize(progress_bar=True)"
   ]
  },
  {
   "cell_type": "code",
   "execution_count": 34,
   "metadata": {},
   "outputs": [
    {
     "data": {
      "application/vnd.jupyter.widget-view+json": {
       "model_id": "57546fc969a048e88e158b7f2a775e1e",
       "version_major": 2,
       "version_minor": 0
      },
      "text/plain": [
       "VBox(children=(HBox(children=(IntProgress(value=0, description='0.00%', max=2437), Label(value='0 / 2437'))), …"
      ]
     },
     "metadata": {},
     "output_type": "display_data"
    },
    {
     "name": "stderr",
     "output_type": "stream",
     "text": [
      "/home/xkadlci2/gadgets/gadgets/markup.py:14: MarkupResemblesLocatorWarning: The input looks more like a filename than markup. You may want to open this file and pass the filehandle into Beautiful Soup.\n",
      "  return bs4.BeautifulSoup(step, features=\"html.parser\")\n",
      "/home/xkadlci2/gadgets/gadgets/markup.py:14: MarkupResemblesLocatorWarning: The input looks more like a filename than markup. You may want to open this file and pass the filehandle into Beautiful Soup.\n",
      "  return bs4.BeautifulSoup(step, features=\"html.parser\")\n",
      "/home/xkadlci2/gadgets/gadgets/markup.py:14: MarkupResemblesLocatorWarning: The input looks more like a filename than markup. You may want to open this file and pass the filehandle into Beautiful Soup.\n",
      "  return bs4.BeautifulSoup(step, features=\"html.parser\")\n",
      "/home/xkadlci2/gadgets/gadgets/markup.py:14: MarkupResemblesLocatorWarning: The input looks more like a filename than markup. You may want to open this file and pass the filehandle into Beautiful Soup.\n",
      "  return bs4.BeautifulSoup(step, features=\"html.parser\")\n",
      "/home/xkadlci2/gadgets/gadgets/markup.py:14: MarkupResemblesLocatorWarning: The input looks more like a filename than markup. You may want to open this file and pass the filehandle into Beautiful Soup.\n",
      "  return bs4.BeautifulSoup(step, features=\"html.parser\")\n",
      "/home/xkadlci2/gadgets/gadgets/markup.py:14: MarkupResemblesLocatorWarning: The input looks more like a filename than markup. You may want to open this file and pass the filehandle into Beautiful Soup.\n",
      "  return bs4.BeautifulSoup(step, features=\"html.parser\")\n",
      "/home/xkadlci2/gadgets/gadgets/markup.py:14: MarkupResemblesLocatorWarning: The input looks more like a filename than markup. You may want to open this file and pass the filehandle into Beautiful Soup.\n",
      "  return bs4.BeautifulSoup(step, features=\"html.parser\")\n",
      "/home/xkadlci2/gadgets/gadgets/markup.py:14: MarkupResemblesLocatorWarning: The input looks more like a filename than markup. You may want to open this file and pass the filehandle into Beautiful Soup.\n",
      "  return bs4.BeautifulSoup(step, features=\"html.parser\")\n",
      "/home/xkadlci2/gadgets/gadgets/markup.py:14: MarkupResemblesLocatorWarning: The input looks more like a filename than markup. You may want to open this file and pass the filehandle into Beautiful Soup.\n",
      "  return bs4.BeautifulSoup(step, features=\"html.parser\")\n",
      "/home/xkadlci2/gadgets/gadgets/markup.py:14: MarkupResemblesLocatorWarning: The input looks more like a filename than markup. You may want to open this file and pass the filehandle into Beautiful Soup.\n",
      "  return bs4.BeautifulSoup(step, features=\"html.parser\")\n",
      "/home/xkadlci2/gadgets/gadgets/markup.py:14: MarkupResemblesLocatorWarning: The input looks more like a filename than markup. You may want to open this file and pass the filehandle into Beautiful Soup.\n",
      "  return bs4.BeautifulSoup(step, features=\"html.parser\")\n",
      "/home/xkadlci2/gadgets/gadgets/markup.py:14: MarkupResemblesLocatorWarning: The input looks more like a filename than markup. You may want to open this file and pass the filehandle into Beautiful Soup.\n",
      "  return bs4.BeautifulSoup(step, features=\"html.parser\")\n",
      "/home/xkadlci2/gadgets/gadgets/markup.py:14: MarkupResemblesLocatorWarning: The input looks more like a filename than markup. You may want to open this file and pass the filehandle into Beautiful Soup.\n",
      "  return bs4.BeautifulSoup(step, features=\"html.parser\")\n",
      "/home/xkadlci2/gadgets/gadgets/markup.py:14: MarkupResemblesLocatorWarning: The input looks more like a filename than markup. You may want to open this file and pass the filehandle into Beautiful Soup.\n",
      "  return bs4.BeautifulSoup(step, features=\"html.parser\")\n",
      "/home/xkadlci2/gadgets/gadgets/markup.py:14: MarkupResemblesLocatorWarning: The input looks more like a filename than markup. You may want to open this file and pass the filehandle into Beautiful Soup.\n",
      "  return bs4.BeautifulSoup(step, features=\"html.parser\")\n",
      "/home/xkadlci2/gadgets/gadgets/markup.py:14: MarkupResemblesLocatorWarning: The input looks more like a filename than markup. You may want to open this file and pass the filehandle into Beautiful Soup.\n",
      "  return bs4.BeautifulSoup(step, features=\"html.parser\")\n",
      "/home/xkadlci2/gadgets/gadgets/markup.py:14: MarkupResemblesLocatorWarning: The input looks more like a filename than markup. You may want to open this file and pass the filehandle into Beautiful Soup.\n",
      "  return bs4.BeautifulSoup(step, features=\"html.parser\")\n",
      "/home/xkadlci2/gadgets/gadgets/markup.py:14: MarkupResemblesLocatorWarning: The input looks more like a filename than markup. You may want to open this file and pass the filehandle into Beautiful Soup.\n",
      "  return bs4.BeautifulSoup(step, features=\"html.parser\")\n",
      "/home/xkadlci2/gadgets/gadgets/markup.py:14: MarkupResemblesLocatorWarning: The input looks more like a filename than markup. You may want to open this file and pass the filehandle into Beautiful Soup.\n",
      "  return bs4.BeautifulSoup(step, features=\"html.parser\")\n",
      "/home/xkadlci2/gadgets/gadgets/markup.py:14: MarkupResemblesLocatorWarning: The input looks more like a filename than markup. You may want to open this file and pass the filehandle into Beautiful Soup.\n",
      "  return bs4.BeautifulSoup(step, features=\"html.parser\")\n",
      "/home/xkadlci2/gadgets/gadgets/markup.py:14: MarkupResemblesLocatorWarning: The input looks more like a filename than markup. You may want to open this file and pass the filehandle into Beautiful Soup.\n",
      "  return bs4.BeautifulSoup(step, features=\"html.parser\")\n",
      "/home/xkadlci2/gadgets/gadgets/markup.py:14: MarkupResemblesLocatorWarning: The input looks more like a filename than markup. You may want to open this file and pass the filehandle into Beautiful Soup.\n",
      "  return bs4.BeautifulSoup(step, features=\"html.parser\")\n",
      "/home/xkadlci2/gadgets/gadgets/markup.py:14: MarkupResemblesLocatorWarning: The input looks more like a filename than markup. You may want to open this file and pass the filehandle into Beautiful Soup.\n",
      "  return bs4.BeautifulSoup(step, features=\"html.parser\")\n",
      "/home/xkadlci2/gadgets/gadgets/markup.py:14: MarkupResemblesLocatorWarning: The input looks more like a filename than markup. You may want to open this file and pass the filehandle into Beautiful Soup.\n",
      "  return bs4.BeautifulSoup(step, features=\"html.parser\")\n",
      "/home/xkadlci2/gadgets/gadgets/markup.py:14: MarkupResemblesLocatorWarning: The input looks more like a filename than markup. You may want to open this file and pass the filehandle into Beautiful Soup.\n",
      "  return bs4.BeautifulSoup(step, features=\"html.parser\")\n",
      "/home/xkadlci2/gadgets/gadgets/markup.py:14: MarkupResemblesLocatorWarning: The input looks more like a filename than markup. You may want to open this file and pass the filehandle into Beautiful Soup.\n",
      "  return bs4.BeautifulSoup(step, features=\"html.parser\")\n",
      "/home/xkadlci2/gadgets/gadgets/markup.py:14: MarkupResemblesLocatorWarning: The input looks more like a filename than markup. You may want to open this file and pass the filehandle into Beautiful Soup.\n",
      "  return bs4.BeautifulSoup(step, features=\"html.parser\")\n",
      "/home/xkadlci2/gadgets/gadgets/markup.py:14: MarkupResemblesLocatorWarning: The input looks more like a filename than markup. You may want to open this file and pass the filehandle into Beautiful Soup.\n",
      "  return bs4.BeautifulSoup(step, features=\"html.parser\")\n",
      "/home/xkadlci2/gadgets/gadgets/markup.py:14: MarkupResemblesLocatorWarning: The input looks more like a filename than markup. You may want to open this file and pass the filehandle into Beautiful Soup.\n",
      "  return bs4.BeautifulSoup(step, features=\"html.parser\")\n",
      "/home/xkadlci2/gadgets/gadgets/markup.py:14: MarkupResemblesLocatorWarning: The input looks more like a filename than markup. You may want to open this file and pass the filehandle into Beautiful Soup.\n",
      "  return bs4.BeautifulSoup(step, features=\"html.parser\")\n",
      "/home/xkadlci2/gadgets/gadgets/markup.py:14: MarkupResemblesLocatorWarning: The input looks more like a filename than markup. You may want to open this file and pass the filehandle into Beautiful Soup.\n",
      "  return bs4.BeautifulSoup(step, features=\"html.parser\")\n",
      "/home/xkadlci2/gadgets/gadgets/markup.py:14: MarkupResemblesLocatorWarning: The input looks more like a filename than markup. You may want to open this file and pass the filehandle into Beautiful Soup.\n",
      "  return bs4.BeautifulSoup(step, features=\"html.parser\")\n",
      "/home/xkadlci2/gadgets/gadgets/markup.py:14: MarkupResemblesLocatorWarning: The input looks more like a filename than markup. You may want to open this file and pass the filehandle into Beautiful Soup.\n",
      "  return bs4.BeautifulSoup(step, features=\"html.parser\")\n",
      "/home/xkadlci2/gadgets/gadgets/markup.py:14: MarkupResemblesLocatorWarning: The input looks more like a filename than markup. You may want to open this file and pass the filehandle into Beautiful Soup.\n",
      "  return bs4.BeautifulSoup(step, features=\"html.parser\")\n",
      "/home/xkadlci2/gadgets/gadgets/markup.py:14: MarkupResemblesLocatorWarning: The input looks more like a filename than markup. You may want to open this file and pass the filehandle into Beautiful Soup.\n",
      "  return bs4.BeautifulSoup(step, features=\"html.parser\")\n",
      "/home/xkadlci2/gadgets/gadgets/markup.py:14: MarkupResemblesLocatorWarning: The input looks more like a filename than markup. You may want to open this file and pass the filehandle into Beautiful Soup.\n",
      "  return bs4.BeautifulSoup(step, features=\"html.parser\")\n",
      "/home/xkadlci2/gadgets/gadgets/markup.py:14: MarkupResemblesLocatorWarning: The input looks more like a filename than markup. You may want to open this file and pass the filehandle into Beautiful Soup.\n",
      "  return bs4.BeautifulSoup(step, features=\"html.parser\")\n",
      "/home/xkadlci2/gadgets/gadgets/markup.py:14: MarkupResemblesLocatorWarning: The input looks more like a filename than markup. You may want to open this file and pass the filehandle into Beautiful Soup.\n",
      "  return bs4.BeautifulSoup(step, features=\"html.parser\")\n",
      "/home/xkadlci2/gadgets/gadgets/markup.py:14: MarkupResemblesLocatorWarning: The input looks more like a filename than markup. You may want to open this file and pass the filehandle into Beautiful Soup.\n",
      "  return bs4.BeautifulSoup(step, features=\"html.parser\")\n",
      "/home/xkadlci2/gadgets/gadgets/markup.py:14: MarkupResemblesLocatorWarning: The input looks more like a filename than markup. You may want to open this file and pass the filehandle into Beautiful Soup.\n",
      "  return bs4.BeautifulSoup(step, features=\"html.parser\")\n",
      "<string>:1: SyntaxWarning: 'tuple' object is not callable; perhaps you missed a comma?\n",
      "<string>:1: SyntaxWarning: 'tuple' object is not callable; perhaps you missed a comma?\n",
      "<string>:1: SyntaxWarning: 'tuple' object is not callable; perhaps you missed a comma?\n",
      "<string>:1: SyntaxWarning: 'tuple' object is not callable; perhaps you missed a comma?\n",
      "<string>:1: SyntaxWarning: 'tuple' object is not callable; perhaps you missed a comma?\n",
      "<string>:1: SyntaxWarning: 'tuple' object is not callable; perhaps you missed a comma?\n",
      "<string>:1: SyntaxWarning: 'tuple' object is not callable; perhaps you missed a comma?\n",
      "<string>:1: SyntaxWarning: 'tuple' object is not callable; perhaps you missed a comma?\n",
      "<string>:1: SyntaxWarning: 'tuple' object is not callable; perhaps you missed a comma?\n",
      "<string>:1: SyntaxWarning: 'tuple' object is not callable; perhaps you missed a comma?\n",
      "<string>:1: SyntaxWarning: 'tuple' object is not callable; perhaps you missed a comma?\n",
      "<string>:1: SyntaxWarning: 'tuple' object is not callable; perhaps you missed a comma?\n",
      "<string>:1: SyntaxWarning: 'tuple' object is not callable; perhaps you missed a comma?\n",
      "<string>:1: SyntaxWarning: 'tuple' object is not callable; perhaps you missed a comma?\n",
      "<string>:1: SyntaxWarning: 'tuple' object is not callable; perhaps you missed a comma?\n",
      "<string>:1: SyntaxWarning: 'tuple' object is not callable; perhaps you missed a comma?\n",
      "<string>:1: SyntaxWarning: 'tuple' object is not callable; perhaps you missed a comma?\n",
      "<string>:1: SyntaxWarning: 'tuple' object is not callable; perhaps you missed a comma?\n",
      "<string>:1: SyntaxWarning: 'tuple' object is not callable; perhaps you missed a comma?\n",
      "<string>:1: SyntaxWarning: 'tuple' object is not callable; perhaps you missed a comma?\n",
      "<string>:1: SyntaxWarning: 'tuple' object is not callable; perhaps you missed a comma?\n",
      "<string>:1: SyntaxWarning: 'tuple' object is not callable; perhaps you missed a comma?\n",
      "<string>:1: SyntaxWarning: 'tuple' object is not callable; perhaps you missed a comma?\n",
      "<string>:1: SyntaxWarning: 'tuple' object is not callable; perhaps you missed a comma?\n",
      "<string>:1: SyntaxWarning: 'tuple' object is not callable; perhaps you missed a comma?\n",
      "<string>:1: SyntaxWarning: 'tuple' object is not callable; perhaps you missed a comma?\n",
      "<string>:1: SyntaxWarning: 'tuple' object is not callable; perhaps you missed a comma?\n",
      "<string>:1: SyntaxWarning: 'tuple' object is not callable; perhaps you missed a comma?\n",
      "<string>:1: SyntaxWarning: 'tuple' object is not callable; perhaps you missed a comma?\n",
      "<string>:1: SyntaxWarning: 'tuple' object is not callable; perhaps you missed a comma?\n",
      "<string>:1: SyntaxWarning: 'tuple' object is not callable; perhaps you missed a comma?\n",
      "<string>:1: SyntaxWarning: 'tuple' object is not callable; perhaps you missed a comma?\n",
      "<string>:1: SyntaxWarning: 'tuple' object is not callable; perhaps you missed a comma?\n",
      "<string>:1: SyntaxWarning: 'tuple' object is not callable; perhaps you missed a comma?\n",
      "<string>:1: SyntaxWarning: 'tuple' object is not callable; perhaps you missed a comma?\n",
      "<string>:1: SyntaxWarning: 'tuple' object is not callable; perhaps you missed a comma?\n",
      "<string>:1: SyntaxWarning: 'tuple' object is not callable; perhaps you missed a comma?\n",
      "<string>:1: SyntaxWarning: 'tuple' object is not callable; perhaps you missed a comma?\n",
      "<string>:1: SyntaxWarning: 'tuple' object is not callable; perhaps you missed a comma?\n",
      "<string>:1: SyntaxWarning: 'tuple' object is not callable; perhaps you missed a comma?\n",
      "<string>:1: SyntaxWarning: 'tuple' object is not callable; perhaps you missed a comma?\n",
      "<string>:1: SyntaxWarning: 'tuple' object is not callable; perhaps you missed a comma?\n",
      "<string>:1: SyntaxWarning: 'tuple' object is not callable; perhaps you missed a comma?\n",
      "<string>:1: SyntaxWarning: 'tuple' object is not callable; perhaps you missed a comma?\n",
      "<string>:1: SyntaxWarning: 'tuple' object is not callable; perhaps you missed a comma?\n",
      "<string>:1: SyntaxWarning: 'tuple' object is not callable; perhaps you missed a comma?\n",
      "<string>:1: SyntaxWarning: 'tuple' object is not callable; perhaps you missed a comma?\n",
      "<string>:1: SyntaxWarning: 'tuple' object is not callable; perhaps you missed a comma?\n",
      "<string>:1: SyntaxWarning: 'tuple' object is not callable; perhaps you missed a comma?\n",
      "<string>:1: SyntaxWarning: 'tuple' object is not callable; perhaps you missed a comma?\n",
      "<string>:1: SyntaxWarning: 'tuple' object is not callable; perhaps you missed a comma?\n",
      "<string>:1: SyntaxWarning: 'tuple' object is not callable; perhaps you missed a comma?\n",
      "<string>:1: SyntaxWarning: 'tuple' object is not callable; perhaps you missed a comma?\n",
      "<string>:1: SyntaxWarning: 'tuple' object is not callable; perhaps you missed a comma?\n",
      "<string>:1: SyntaxWarning: 'tuple' object is not callable; perhaps you missed a comma?\n",
      "<string>:1: SyntaxWarning: 'tuple' object is not callable; perhaps you missed a comma?\n"
     ]
    },
    {
     "data": {
      "application/vnd.jupyter.widget-view+json": {
       "model_id": "2bda3e0d262b49c8b7e3a48537380939",
       "version_major": 2,
       "version_minor": 0
      },
      "text/plain": [
       "VBox(children=(HBox(children=(IntProgress(value=0, description='0.00%', max=7), Label(value='0 / 7'))), HBox(c…"
      ]
     },
     "metadata": {},
     "output_type": "display_data"
    },
    {
     "name": "stderr",
     "output_type": "stream",
     "text": [
      "/home/xkadlci2/gadgets/gadgets/markup.py:14: MarkupResemblesLocatorWarning: The input looks more like a filename than markup. You may want to open this file and pass the filehandle into Beautiful Soup.\n",
      "  return bs4.BeautifulSoup(step, features=\"html.parser\")\n",
      "/home/xkadlci2/gadgets/gadgets/markup.py:14: MarkupResemblesLocatorWarning: The input looks more like a filename than markup. You may want to open this file and pass the filehandle into Beautiful Soup.\n",
      "  return bs4.BeautifulSoup(step, features=\"html.parser\")\n",
      "/home/xkadlci2/gadgets/gadgets/markup.py:14: MarkupResemblesLocatorWarning: The input looks more like a filename than markup. You may want to open this file and pass the filehandle into Beautiful Soup.\n",
      "  return bs4.BeautifulSoup(step, features=\"html.parser\")\n",
      "/home/xkadlci2/gadgets/gadgets/markup.py:14: MarkupResemblesLocatorWarning: The input looks more like a filename than markup. You may want to open this file and pass the filehandle into Beautiful Soup.\n",
      "  return bs4.BeautifulSoup(step, features=\"html.parser\")\n",
      "/home/xkadlci2/gadgets/gadgets/markup.py:14: MarkupResemblesLocatorWarning: The input looks more like a filename than markup. You may want to open this file and pass the filehandle into Beautiful Soup.\n",
      "  return bs4.BeautifulSoup(step, features=\"html.parser\")\n",
      "/home/xkadlci2/gadgets/gadgets/markup.py:14: MarkupResemblesLocatorWarning: The input looks more like a filename than markup. You may want to open this file and pass the filehandle into Beautiful Soup.\n",
      "  return bs4.BeautifulSoup(step, features=\"html.parser\")\n",
      "/home/xkadlci2/gadgets/gadgets/markup.py:14: MarkupResemblesLocatorWarning: The input looks more like a filename than markup. You may want to open this file and pass the filehandle into Beautiful Soup.\n",
      "  return bs4.BeautifulSoup(step, features=\"html.parser\")\n",
      "/home/xkadlci2/gadgets/gadgets/markup.py:14: MarkupResemblesLocatorWarning: The input looks more like a filename than markup. You may want to open this file and pass the filehandle into Beautiful Soup.\n",
      "  return bs4.BeautifulSoup(step, features=\"html.parser\")\n",
      "/home/xkadlci2/gadgets/gadgets/markup.py:14: MarkupResemblesLocatorWarning: The input looks more like a filename than markup. You may want to open this file and pass the filehandle into Beautiful Soup.\n",
      "  return bs4.BeautifulSoup(step, features=\"html.parser\")\n",
      "/home/xkadlci2/gadgets/gadgets/markup.py:14: MarkupResemblesLocatorWarning: The input looks more like a filename than markup. You may want to open this file and pass the filehandle into Beautiful Soup.\n",
      "  return bs4.BeautifulSoup(step, features=\"html.parser\")\n",
      "/home/xkadlci2/gadgets/gadgets/markup.py:14: MarkupResemblesLocatorWarning: The input looks more like a filename than markup. You may want to open this file and pass the filehandle into Beautiful Soup.\n",
      "  return bs4.BeautifulSoup(step, features=\"html.parser\")\n",
      "/home/xkadlci2/gadgets/gadgets/markup.py:14: MarkupResemblesLocatorWarning: The input looks more like a filename than markup. You may want to open this file and pass the filehandle into Beautiful Soup.\n",
      "  return bs4.BeautifulSoup(step, features=\"html.parser\")\n",
      "/home/xkadlci2/gadgets/gadgets/markup.py:14: MarkupResemblesLocatorWarning: The input looks more like a filename than markup. You may want to open this file and pass the filehandle into Beautiful Soup.\n",
      "  return bs4.BeautifulSoup(step, features=\"html.parser\")\n",
      "/home/xkadlci2/gadgets/gadgets/markup.py:14: MarkupResemblesLocatorWarning: The input looks more like a filename than markup. You may want to open this file and pass the filehandle into Beautiful Soup.\n",
      "  return bs4.BeautifulSoup(step, features=\"html.parser\")\n",
      "/home/xkadlci2/gadgets/gadgets/markup.py:14: MarkupResemblesLocatorWarning: The input looks more like a filename than markup. You may want to open this file and pass the filehandle into Beautiful Soup.\n",
      "  return bs4.BeautifulSoup(step, features=\"html.parser\")\n",
      "/home/xkadlci2/gadgets/gadgets/markup.py:14: MarkupResemblesLocatorWarning: The input looks more like a filename than markup. You may want to open this file and pass the filehandle into Beautiful Soup.\n",
      "  return bs4.BeautifulSoup(step, features=\"html.parser\")\n",
      "/home/xkadlci2/gadgets/gadgets/markup.py:14: MarkupResemblesLocatorWarning: The input looks more like a filename than markup. You may want to open this file and pass the filehandle into Beautiful Soup.\n",
      "  return bs4.BeautifulSoup(step, features=\"html.parser\")\n",
      "/home/xkadlci2/gadgets/gadgets/markup.py:14: MarkupResemblesLocatorWarning: The input looks more like a filename than markup. You may want to open this file and pass the filehandle into Beautiful Soup.\n",
      "  return bs4.BeautifulSoup(step, features=\"html.parser\")\n",
      "/home/xkadlci2/gadgets/gadgets/markup.py:14: MarkupResemblesLocatorWarning: The input looks more like a filename than markup. You may want to open this file and pass the filehandle into Beautiful Soup.\n",
      "  return bs4.BeautifulSoup(step, features=\"html.parser\")\n",
      "/home/xkadlci2/gadgets/gadgets/markup.py:14: MarkupResemblesLocatorWarning: The input looks more like a filename than markup. You may want to open this file and pass the filehandle into Beautiful Soup.\n",
      "  return bs4.BeautifulSoup(step, features=\"html.parser\")\n",
      "/home/xkadlci2/gadgets/gadgets/markup.py:14: MarkupResemblesLocatorWarning: The input looks more like a filename than markup. You may want to open this file and pass the filehandle into Beautiful Soup.\n",
      "  return bs4.BeautifulSoup(step, features=\"html.parser\")\n",
      "/home/xkadlci2/gadgets/gadgets/markup.py:14: MarkupResemblesLocatorWarning: The input looks more like a filename than markup. You may want to open this file and pass the filehandle into Beautiful Soup.\n",
      "  return bs4.BeautifulSoup(step, features=\"html.parser\")\n",
      "/home/xkadlci2/gadgets/gadgets/markup.py:14: MarkupResemblesLocatorWarning: The input looks more like a filename than markup. You may want to open this file and pass the filehandle into Beautiful Soup.\n",
      "  return bs4.BeautifulSoup(step, features=\"html.parser\")\n",
      "/home/xkadlci2/gadgets/gadgets/markup.py:14: MarkupResemblesLocatorWarning: The input looks more like a filename than markup. You may want to open this file and pass the filehandle into Beautiful Soup.\n",
      "  return bs4.BeautifulSoup(step, features=\"html.parser\")\n",
      "/home/xkadlci2/gadgets/gadgets/markup.py:14: MarkupResemblesLocatorWarning: The input looks more like a filename than markup. You may want to open this file and pass the filehandle into Beautiful Soup.\n",
      "  return bs4.BeautifulSoup(step, features=\"html.parser\")\n",
      "/home/xkadlci2/gadgets/gadgets/markup.py:14: MarkupResemblesLocatorWarning: The input looks more like a filename than markup. You may want to open this file and pass the filehandle into Beautiful Soup.\n",
      "  return bs4.BeautifulSoup(step, features=\"html.parser\")\n",
      "/home/xkadlci2/gadgets/gadgets/markup.py:14: MarkupResemblesLocatorWarning: The input looks more like a filename than markup. You may want to open this file and pass the filehandle into Beautiful Soup.\n",
      "  return bs4.BeautifulSoup(step, features=\"html.parser\")\n",
      "/home/xkadlci2/gadgets/gadgets/markup.py:14: MarkupResemblesLocatorWarning: The input looks more like a filename than markup. You may want to open this file and pass the filehandle into Beautiful Soup.\n",
      "  return bs4.BeautifulSoup(step, features=\"html.parser\")\n",
      "/home/xkadlci2/gadgets/gadgets/markup.py:14: MarkupResemblesLocatorWarning: The input looks more like a filename than markup. You may want to open this file and pass the filehandle into Beautiful Soup.\n",
      "  return bs4.BeautifulSoup(step, features=\"html.parser\")\n",
      "/home/xkadlci2/gadgets/gadgets/markup.py:14: MarkupResemblesLocatorWarning: The input looks more like a filename than markup. You may want to open this file and pass the filehandle into Beautiful Soup.\n",
      "  return bs4.BeautifulSoup(step, features=\"html.parser\")\n",
      "/home/xkadlci2/gadgets/gadgets/markup.py:14: MarkupResemblesLocatorWarning: The input looks more like a filename than markup. You may want to open this file and pass the filehandle into Beautiful Soup.\n",
      "  return bs4.BeautifulSoup(step, features=\"html.parser\")\n",
      "/home/xkadlci2/gadgets/gadgets/markup.py:14: MarkupResemblesLocatorWarning: The input looks more like a filename than markup. You may want to open this file and pass the filehandle into Beautiful Soup.\n",
      "  return bs4.BeautifulSoup(step, features=\"html.parser\")\n",
      "/home/xkadlci2/gadgets/gadgets/markup.py:14: MarkupResemblesLocatorWarning: The input looks more like a filename than markup. You may want to open this file and pass the filehandle into Beautiful Soup.\n",
      "  return bs4.BeautifulSoup(step, features=\"html.parser\")\n",
      "/home/xkadlci2/gadgets/gadgets/markup.py:14: MarkupResemblesLocatorWarning: The input looks more like a filename than markup. You may want to open this file and pass the filehandle into Beautiful Soup.\n",
      "  return bs4.BeautifulSoup(step, features=\"html.parser\")\n",
      "/home/xkadlci2/gadgets/gadgets/markup.py:14: MarkupResemblesLocatorWarning: The input looks more like a filename than markup. You may want to open this file and pass the filehandle into Beautiful Soup.\n",
      "  return bs4.BeautifulSoup(step, features=\"html.parser\")\n",
      "/home/xkadlci2/gadgets/gadgets/markup.py:14: MarkupResemblesLocatorWarning: The input looks more like a filename than markup. You may want to open this file and pass the filehandle into Beautiful Soup.\n",
      "  return bs4.BeautifulSoup(step, features=\"html.parser\")\n",
      "/home/xkadlci2/gadgets/gadgets/markup.py:14: MarkupResemblesLocatorWarning: The input looks more like a filename than markup. You may want to open this file and pass the filehandle into Beautiful Soup.\n",
      "  return bs4.BeautifulSoup(step, features=\"html.parser\")\n",
      "/home/xkadlci2/gadgets/gadgets/markup.py:14: MarkupResemblesLocatorWarning: The input looks more like a filename than markup. You may want to open this file and pass the filehandle into Beautiful Soup.\n",
      "  return bs4.BeautifulSoup(step, features=\"html.parser\")\n",
      "/home/xkadlci2/gadgets/gadgets/markup.py:14: MarkupResemblesLocatorWarning: The input looks more like a filename than markup. You may want to open this file and pass the filehandle into Beautiful Soup.\n",
      "  return bs4.BeautifulSoup(step, features=\"html.parser\")\n"
     ]
    },
    {
     "data": {
      "application/vnd.jupyter.widget-view+json": {
       "model_id": "7fa2307619cc4fc19a3690fd8d981411",
       "version_major": 2,
       "version_minor": 0
      },
      "text/plain": [
       "VBox(children=(HBox(children=(IntProgress(value=0, description='0.00%', max=7), Label(value='0 / 7'))), HBox(c…"
      ]
     },
     "metadata": {},
     "output_type": "display_data"
    },
    {
     "name": "stderr",
     "output_type": "stream",
     "text": [
      "/home/xkadlci2/gadgets/gadgets/markup.py:14: MarkupResemblesLocatorWarning: The input looks more like a filename than markup. You may want to open this file and pass the filehandle into Beautiful Soup.\n",
      "  return bs4.BeautifulSoup(step, features=\"html.parser\")\n",
      "/home/xkadlci2/gadgets/gadgets/markup.py:14: MarkupResemblesLocatorWarning: The input looks more like a filename than markup. You may want to open this file and pass the filehandle into Beautiful Soup.\n",
      "  return bs4.BeautifulSoup(step, features=\"html.parser\")\n",
      "/home/xkadlci2/gadgets/gadgets/markup.py:14: MarkupResemblesLocatorWarning: The input looks more like a filename than markup. You may want to open this file and pass the filehandle into Beautiful Soup.\n",
      "  return bs4.BeautifulSoup(step, features=\"html.parser\")\n",
      "/home/xkadlci2/gadgets/gadgets/markup.py:14: MarkupResemblesLocatorWarning: The input looks more like a filename than markup. You may want to open this file and pass the filehandle into Beautiful Soup.\n",
      "  return bs4.BeautifulSoup(step, features=\"html.parser\")\n",
      "/home/xkadlci2/gadgets/gadgets/markup.py:14: MarkupResemblesLocatorWarning: The input looks more like a filename than markup. You may want to open this file and pass the filehandle into Beautiful Soup.\n",
      "  return bs4.BeautifulSoup(step, features=\"html.parser\")\n",
      "/home/xkadlci2/gadgets/gadgets/markup.py:14: MarkupResemblesLocatorWarning: The input looks more like a filename than markup. You may want to open this file and pass the filehandle into Beautiful Soup.\n",
      "  return bs4.BeautifulSoup(step, features=\"html.parser\")\n",
      "/home/xkadlci2/gadgets/gadgets/markup.py:14: MarkupResemblesLocatorWarning: The input looks more like a filename than markup. You may want to open this file and pass the filehandle into Beautiful Soup.\n",
      "  return bs4.BeautifulSoup(step, features=\"html.parser\")\n",
      "/home/xkadlci2/gadgets/gadgets/markup.py:14: MarkupResemblesLocatorWarning: The input looks more like a filename than markup. You may want to open this file and pass the filehandle into Beautiful Soup.\n",
      "  return bs4.BeautifulSoup(step, features=\"html.parser\")\n",
      "/home/xkadlci2/gadgets/gadgets/markup.py:14: MarkupResemblesLocatorWarning: The input looks more like a filename than markup. You may want to open this file and pass the filehandle into Beautiful Soup.\n",
      "  return bs4.BeautifulSoup(step, features=\"html.parser\")\n",
      "/home/xkadlci2/gadgets/gadgets/markup.py:14: MarkupResemblesLocatorWarning: The input looks more like a filename than markup. You may want to open this file and pass the filehandle into Beautiful Soup.\n",
      "  return bs4.BeautifulSoup(step, features=\"html.parser\")\n",
      "/home/xkadlci2/gadgets/gadgets/markup.py:14: MarkupResemblesLocatorWarning: The input looks more like a filename than markup. You may want to open this file and pass the filehandle into Beautiful Soup.\n",
      "  return bs4.BeautifulSoup(step, features=\"html.parser\")\n",
      "/home/xkadlci2/gadgets/gadgets/markup.py:14: MarkupResemblesLocatorWarning: The input looks more like a filename than markup. You may want to open this file and pass the filehandle into Beautiful Soup.\n",
      "  return bs4.BeautifulSoup(step, features=\"html.parser\")\n",
      "/home/xkadlci2/gadgets/gadgets/markup.py:14: MarkupResemblesLocatorWarning: The input looks more like a filename than markup. You may want to open this file and pass the filehandle into Beautiful Soup.\n",
      "  return bs4.BeautifulSoup(step, features=\"html.parser\")\n",
      "/home/xkadlci2/gadgets/gadgets/markup.py:14: MarkupResemblesLocatorWarning: The input looks more like a filename than markup. You may want to open this file and pass the filehandle into Beautiful Soup.\n",
      "  return bs4.BeautifulSoup(step, features=\"html.parser\")\n",
      "/home/xkadlci2/gadgets/gadgets/markup.py:14: MarkupResemblesLocatorWarning: The input looks more like a filename than markup. You may want to open this file and pass the filehandle into Beautiful Soup.\n",
      "  return bs4.BeautifulSoup(step, features=\"html.parser\")\n",
      "/home/xkadlci2/gadgets/gadgets/markup.py:14: MarkupResemblesLocatorWarning: The input looks more like a filename than markup. You may want to open this file and pass the filehandle into Beautiful Soup.\n",
      "  return bs4.BeautifulSoup(step, features=\"html.parser\")\n",
      "/home/xkadlci2/gadgets/gadgets/markup.py:14: MarkupResemblesLocatorWarning: The input looks more like a filename than markup. You may want to open this file and pass the filehandle into Beautiful Soup.\n",
      "  return bs4.BeautifulSoup(step, features=\"html.parser\")\n",
      "/home/xkadlci2/gadgets/gadgets/markup.py:14: MarkupResemblesLocatorWarning: The input looks more like a filename than markup. You may want to open this file and pass the filehandle into Beautiful Soup.\n",
      "  return bs4.BeautifulSoup(step, features=\"html.parser\")\n",
      "/home/xkadlci2/gadgets/gadgets/markup.py:14: MarkupResemblesLocatorWarning: The input looks more like a filename than markup. You may want to open this file and pass the filehandle into Beautiful Soup.\n",
      "  return bs4.BeautifulSoup(step, features=\"html.parser\")\n",
      "/home/xkadlci2/gadgets/gadgets/markup.py:14: MarkupResemblesLocatorWarning: The input looks more like a filename than markup. You may want to open this file and pass the filehandle into Beautiful Soup.\n",
      "  return bs4.BeautifulSoup(step, features=\"html.parser\")\n",
      "/home/xkadlci2/gadgets/gadgets/markup.py:14: MarkupResemblesLocatorWarning: The input looks more like a filename than markup. You may want to open this file and pass the filehandle into Beautiful Soup.\n",
      "  return bs4.BeautifulSoup(step, features=\"html.parser\")\n",
      "/home/xkadlci2/gadgets/gadgets/markup.py:14: MarkupResemblesLocatorWarning: The input looks more like a filename than markup. You may want to open this file and pass the filehandle into Beautiful Soup.\n",
      "  return bs4.BeautifulSoup(step, features=\"html.parser\")\n",
      "/home/xkadlci2/gadgets/gadgets/markup.py:14: MarkupResemblesLocatorWarning: The input looks more like a filename than markup. You may want to open this file and pass the filehandle into Beautiful Soup.\n",
      "  return bs4.BeautifulSoup(step, features=\"html.parser\")\n",
      "/home/xkadlci2/gadgets/gadgets/markup.py:14: MarkupResemblesLocatorWarning: The input looks more like a filename than markup. You may want to open this file and pass the filehandle into Beautiful Soup.\n",
      "  return bs4.BeautifulSoup(step, features=\"html.parser\")\n",
      "/home/xkadlci2/gadgets/gadgets/markup.py:14: MarkupResemblesLocatorWarning: The input looks more like a filename than markup. You may want to open this file and pass the filehandle into Beautiful Soup.\n",
      "  return bs4.BeautifulSoup(step, features=\"html.parser\")\n",
      "/home/xkadlci2/gadgets/gadgets/markup.py:14: MarkupResemblesLocatorWarning: The input looks more like a filename than markup. You may want to open this file and pass the filehandle into Beautiful Soup.\n",
      "  return bs4.BeautifulSoup(step, features=\"html.parser\")\n",
      "/home/xkadlci2/gadgets/gadgets/markup.py:14: MarkupResemblesLocatorWarning: The input looks more like a filename than markup. You may want to open this file and pass the filehandle into Beautiful Soup.\n",
      "  return bs4.BeautifulSoup(step, features=\"html.parser\")\n",
      "/home/xkadlci2/gadgets/gadgets/markup.py:14: MarkupResemblesLocatorWarning: The input looks more like a filename than markup. You may want to open this file and pass the filehandle into Beautiful Soup.\n",
      "  return bs4.BeautifulSoup(step, features=\"html.parser\")\n",
      "/home/xkadlci2/gadgets/gadgets/markup.py:14: MarkupResemblesLocatorWarning: The input looks more like a filename than markup. You may want to open this file and pass the filehandle into Beautiful Soup.\n",
      "  return bs4.BeautifulSoup(step, features=\"html.parser\")\n",
      "/home/xkadlci2/gadgets/gadgets/markup.py:14: MarkupResemblesLocatorWarning: The input looks more like a filename than markup. You may want to open this file and pass the filehandle into Beautiful Soup.\n",
      "  return bs4.BeautifulSoup(step, features=\"html.parser\")\n",
      "/home/xkadlci2/gadgets/gadgets/markup.py:14: MarkupResemblesLocatorWarning: The input looks more like a filename than markup. You may want to open this file and pass the filehandle into Beautiful Soup.\n",
      "  return bs4.BeautifulSoup(step, features=\"html.parser\")\n",
      "/home/xkadlci2/gadgets/gadgets/markup.py:14: MarkupResemblesLocatorWarning: The input looks more like a filename than markup. You may want to open this file and pass the filehandle into Beautiful Soup.\n",
      "  return bs4.BeautifulSoup(step, features=\"html.parser\")\n",
      "/home/xkadlci2/gadgets/gadgets/markup.py:14: MarkupResemblesLocatorWarning: The input looks more like a filename than markup. You may want to open this file and pass the filehandle into Beautiful Soup.\n",
      "  return bs4.BeautifulSoup(step, features=\"html.parser\")\n",
      "/home/xkadlci2/gadgets/gadgets/markup.py:14: MarkupResemblesLocatorWarning: The input looks more like a filename than markup. You may want to open this file and pass the filehandle into Beautiful Soup.\n",
      "  return bs4.BeautifulSoup(step, features=\"html.parser\")\n",
      "/home/xkadlci2/gadgets/gadgets/markup.py:14: MarkupResemblesLocatorWarning: The input looks more like a filename than markup. You may want to open this file and pass the filehandle into Beautiful Soup.\n",
      "  return bs4.BeautifulSoup(step, features=\"html.parser\")\n",
      "/home/xkadlci2/gadgets/gadgets/markup.py:14: MarkupResemblesLocatorWarning: The input looks more like a filename than markup. You may want to open this file and pass the filehandle into Beautiful Soup.\n",
      "  return bs4.BeautifulSoup(step, features=\"html.parser\")\n",
      "/home/xkadlci2/gadgets/gadgets/markup.py:14: MarkupResemblesLocatorWarning: The input looks more like a filename than markup. You may want to open this file and pass the filehandle into Beautiful Soup.\n",
      "  return bs4.BeautifulSoup(step, features=\"html.parser\")\n",
      "/home/xkadlci2/gadgets/gadgets/markup.py:14: MarkupResemblesLocatorWarning: The input looks more like a filename than markup. You may want to open this file and pass the filehandle into Beautiful Soup.\n",
      "  return bs4.BeautifulSoup(step, features=\"html.parser\")\n",
      "/home/xkadlci2/gadgets/gadgets/markup.py:14: MarkupResemblesLocatorWarning: The input looks more like a filename than markup. You may want to open this file and pass the filehandle into Beautiful Soup.\n",
      "  return bs4.BeautifulSoup(step, features=\"html.parser\")\n",
      "/home/xkadlci2/gadgets/gadgets/markup.py:14: MarkupResemblesLocatorWarning: The input looks more like a filename than markup. You may want to open this file and pass the filehandle into Beautiful Soup.\n",
      "  return bs4.BeautifulSoup(step, features=\"html.parser\")\n"
     ]
    }
   ],
   "source": [
    "def transform_chain(row) -> str:\n",
    "    example = gadgets.aqua.parse(row.to_dict())\n",
    "    markup = gadgets.markup.to_model_markup(example=example)\n",
    "    return str(markup)\n",
    "\n",
    "for split in orig_aqua.keys():\n",
    "    aqua[split][\"chain\"] = orig_aqua[split].to_pandas().parallel_apply(transform_chain, axis=1)"
   ]
  },
  {
   "cell_type": "code",
   "execution_count": 35,
   "metadata": {},
   "outputs": [],
   "source": [
    "aqua[\"train\"].head()\n",
    "for split in aqua.keys():\n",
    "    aqua[split] = pd.DataFrame({\n",
    "        \"question\": aqua[split][\"question\"],\n",
    "        \"options\": aqua[split][\"options\"],\n",
    "        \"chain\": aqua[split][\"chain\"],\n",
    "        \"result\": aqua[split][\"correct\"],\n",
    "    })\n",
    "    "
   ]
  },
  {
   "cell_type": "code",
   "execution_count": 36,
   "metadata": {},
   "outputs": [
    {
     "data": {
      "text/html": [
       "<div>\n",
       "<style scoped>\n",
       "    .dataframe tbody tr th:only-of-type {\n",
       "        vertical-align: middle;\n",
       "    }\n",
       "\n",
       "    .dataframe tbody tr th {\n",
       "        vertical-align: top;\n",
       "    }\n",
       "\n",
       "    .dataframe thead th {\n",
       "        text-align: right;\n",
       "    }\n",
       "</style>\n",
       "<table border=\"1\" class=\"dataframe\">\n",
       "  <thead>\n",
       "    <tr style=\"text-align: right;\">\n",
       "      <th></th>\n",
       "      <th>question</th>\n",
       "      <th>options</th>\n",
       "      <th>chain</th>\n",
       "      <th>result</th>\n",
       "    </tr>\n",
       "  </thead>\n",
       "  <tbody>\n",
       "    <tr>\n",
       "      <th>0</th>\n",
       "      <td>Two friends plan to walk along a 43-km trail, ...</td>\n",
       "      <td>{'A': '21', 'B': '21.5', 'C': '22', 'D': '22.5...</td>\n",
       "      <td>If Q complete x kilometers, then P completes 1...</td>\n",
       "      <td>E</td>\n",
       "    </tr>\n",
       "    <tr>\n",
       "      <th>1</th>\n",
       "      <td>In the coordinate plane, points (x, 1) and (5,...</td>\n",
       "      <td>{'A': '4 and 1', 'B': '1 and 5', 'C': '5 and 1...</td>\n",
       "      <td>Line k passes through the origin and has slope...</td>\n",
       "      <td>C</td>\n",
       "    </tr>\n",
       "    <tr>\n",
       "      <th>2</th>\n",
       "      <td>For all numbers p and q, the operation @ is de...</td>\n",
       "      <td>{'A': 'II', 'B': 'I and II', 'C': 'I and III',...</td>\n",
       "      <td>p@q = p^2 - pq=p(p-q).... so p@q will be zero ...</td>\n",
       "      <td>B</td>\n",
       "    </tr>\n",
       "    <tr>\n",
       "      <th>3</th>\n",
       "      <td>Carl is facing very difficult financial times ...</td>\n",
       "      <td>{'A': '$1600', 'B': '$2000', 'C': '$2150', 'D'...</td>\n",
       "      <td>Usually, you are given the annual rate of inte...</td>\n",
       "      <td>A</td>\n",
       "    </tr>\n",
       "    <tr>\n",
       "      <th>4</th>\n",
       "      <td>The speed at which a man can row a boat in sti...</td>\n",
       "      <td>{'A': '18 seconds', 'B': '27 seconds', 'C': '2...</td>\n",
       "      <td>Speed of the boat downstream = 25 +11= \\n&lt;gadg...</td>\n",
       "      <td>E</td>\n",
       "    </tr>\n",
       "  </tbody>\n",
       "</table>\n",
       "</div>"
      ],
      "text/plain": [
       "                                            question  \\\n",
       "0  Two friends plan to walk along a 43-km trail, ...   \n",
       "1  In the coordinate plane, points (x, 1) and (5,...   \n",
       "2  For all numbers p and q, the operation @ is de...   \n",
       "3  Carl is facing very difficult financial times ...   \n",
       "4  The speed at which a man can row a boat in sti...   \n",
       "\n",
       "                                             options  \\\n",
       "0  {'A': '21', 'B': '21.5', 'C': '22', 'D': '22.5...   \n",
       "1  {'A': '4 and 1', 'B': '1 and 5', 'C': '5 and 1...   \n",
       "2  {'A': 'II', 'B': 'I and II', 'C': 'I and III',...   \n",
       "3  {'A': '$1600', 'B': '$2000', 'C': '$2150', 'D'...   \n",
       "4  {'A': '18 seconds', 'B': '27 seconds', 'C': '2...   \n",
       "\n",
       "                                               chain result  \n",
       "0  If Q complete x kilometers, then P completes 1...      E  \n",
       "1  Line k passes through the origin and has slope...      C  \n",
       "2  p@q = p^2 - pq=p(p-q).... so p@q will be zero ...      B  \n",
       "3  Usually, you are given the annual rate of inte...      A  \n",
       "4  Speed of the boat downstream = 25 +11= \\n<gadg...      E  "
      ]
     },
     "execution_count": 36,
     "metadata": {},
     "output_type": "execute_result"
    }
   ],
   "source": [
    "aqua[\"train\"].head()"
   ]
  },
  {
   "cell_type": "code",
   "execution_count": 39,
   "metadata": {},
   "outputs": [
    {
     "data": {
      "application/vnd.jupyter.widget-view+json": {
       "model_id": "9e12e5e9b3f54bde98d785723dcd194d",
       "version_major": 2,
       "version_minor": 0
      },
      "text/plain": [
       "Pushing dataset shards to the dataset hub:   0%|          | 0/1 [00:00<?, ?it/s]"
      ]
     },
     "metadata": {},
     "output_type": "display_data"
    },
    {
     "data": {
      "application/vnd.jupyter.widget-view+json": {
       "model_id": "aa432437c1e74fec90107a932fd09b2f",
       "version_major": 2,
       "version_minor": 0
      },
      "text/plain": [
       "Creating parquet from Arrow format:   0%|          | 0/98 [00:00<?, ?ba/s]"
      ]
     },
     "metadata": {},
     "output_type": "display_data"
    },
    {
     "data": {
      "application/vnd.jupyter.widget-view+json": {
       "model_id": "509b5c47d22346ab9f4cf84683c9b92d",
       "version_major": 2,
       "version_minor": 0
      },
      "text/plain": [
       "Deleting unused files from dataset repository:   0%|          | 0/1 [00:00<?, ?it/s]"
      ]
     },
     "metadata": {},
     "output_type": "display_data"
    },
    {
     "data": {
      "application/vnd.jupyter.widget-view+json": {
       "model_id": "efa8fefec1c34657818d0113b2cf6731",
       "version_major": 2,
       "version_minor": 0
      },
      "text/plain": [
       "Pushing dataset shards to the dataset hub:   0%|          | 0/1 [00:00<?, ?it/s]"
      ]
     },
     "metadata": {},
     "output_type": "display_data"
    },
    {
     "data": {
      "application/vnd.jupyter.widget-view+json": {
       "model_id": "9e9ab59d35da4a0db00384097b29b175",
       "version_major": 2,
       "version_minor": 0
      },
      "text/plain": [
       "Creating parquet from Arrow format:   0%|          | 0/1 [00:00<?, ?ba/s]"
      ]
     },
     "metadata": {},
     "output_type": "display_data"
    },
    {
     "data": {
      "application/vnd.jupyter.widget-view+json": {
       "model_id": "ee87af6a917346d4a0513041bef5dbd3",
       "version_major": 2,
       "version_minor": 0
      },
      "text/plain": [
       "Deleting unused files from dataset repository:   0%|          | 0/1 [00:00<?, ?it/s]"
      ]
     },
     "metadata": {},
     "output_type": "display_data"
    },
    {
     "data": {
      "application/vnd.jupyter.widget-view+json": {
       "model_id": "adc72896304a4e07980f071103b04f64",
       "version_major": 2,
       "version_minor": 0
      },
      "text/plain": [
       "Pushing dataset shards to the dataset hub:   0%|          | 0/1 [00:00<?, ?it/s]"
      ]
     },
     "metadata": {},
     "output_type": "display_data"
    },
    {
     "data": {
      "application/vnd.jupyter.widget-view+json": {
       "model_id": "e452c03fac284660974c05bb777967c6",
       "version_major": 2,
       "version_minor": 0
      },
      "text/plain": [
       "Creating parquet from Arrow format:   0%|          | 0/1 [00:00<?, ?ba/s]"
      ]
     },
     "metadata": {},
     "output_type": "display_data"
    },
    {
     "data": {
      "application/vnd.jupyter.widget-view+json": {
       "model_id": "35737953fd5a4d06bd09450f06e724f2",
       "version_major": 2,
       "version_minor": 0
      },
      "text/plain": [
       "Deleting unused files from dataset repository:   0%|          | 0/1 [00:00<?, ?it/s]"
      ]
     },
     "metadata": {},
     "output_type": "display_data"
    },
    {
     "data": {
      "application/vnd.jupyter.widget-view+json": {
       "model_id": "88a3a98b7350445dbf99d202e53c84d0",
       "version_major": 2,
       "version_minor": 0
      },
      "text/plain": [
       "Downloading metadata:   0%|          | 0.00/5.20k [00:00<?, ?B/s]"
      ]
     },
     "metadata": {},
     "output_type": "display_data"
    }
   ],
   "source": [
    "# datasets.DatasetDict({\n",
    "#     \"train\": datasets.Dataset.from_pandas(aqua[\"train\"]),\n",
    "#     \"validation\": datasets.Dataset.from_pandas(aqua[\"validation\"]),\n",
    "#     \"test\": datasets.Dataset.from_pandas(aqua[\"test\"]),\n",
    "# }).push_to_hub(\"MU-NLPC/Calc-aqua_rat\")"
   ]
  }
 ],
 "metadata": {
  "kernelspec": {
   "display_name": "gadgets",
   "language": "python",
   "name": "python3"
  },
  "language_info": {
   "codemirror_mode": {
    "name": "ipython",
    "version": 3
   },
   "file_extension": ".py",
   "mimetype": "text/x-python",
   "name": "python",
   "nbconvert_exporter": "python",
   "pygments_lexer": "ipython3",
   "version": "3.10.12"
  }
 },
 "nbformat": 4,
 "nbformat_minor": 2
}
